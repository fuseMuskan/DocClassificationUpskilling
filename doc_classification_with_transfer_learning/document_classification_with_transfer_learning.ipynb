{
  "nbformat": 4,
  "nbformat_minor": 0,
  "metadata": {
    "colab": {
      "provenance": [],
      "gpuType": "T4",
      "toc_visible": true
    },
    "kernelspec": {
      "name": "python3",
      "display_name": "Python 3"
    },
    "language_info": {
      "name": "python"
    },
    "accelerator": "GPU",
    "widgets": {
      "application/vnd.jupyter.widget-state+json": {
        "83b934fadb9f4d4982039c36de2ee10d": {
          "model_module": "@jupyter-widgets/controls",
          "model_name": "HBoxModel",
          "model_module_version": "1.5.0",
          "state": {
            "_dom_classes": [],
            "_model_module": "@jupyter-widgets/controls",
            "_model_module_version": "1.5.0",
            "_model_name": "HBoxModel",
            "_view_count": null,
            "_view_module": "@jupyter-widgets/controls",
            "_view_module_version": "1.5.0",
            "_view_name": "HBoxView",
            "box_style": "",
            "children": [
              "IPY_MODEL_75ef55b712214fb2b443537ca961ce88",
              "IPY_MODEL_20fecccd608f4b029137149e343323c5",
              "IPY_MODEL_c085dc5a25914c75a23815499943e840"
            ],
            "layout": "IPY_MODEL_db3e7cc282a7435b9f90642f5968e494"
          }
        },
        "75ef55b712214fb2b443537ca961ce88": {
          "model_module": "@jupyter-widgets/controls",
          "model_name": "HTMLModel",
          "model_module_version": "1.5.0",
          "state": {
            "_dom_classes": [],
            "_model_module": "@jupyter-widgets/controls",
            "_model_module_version": "1.5.0",
            "_model_name": "HTMLModel",
            "_view_count": null,
            "_view_module": "@jupyter-widgets/controls",
            "_view_module_version": "1.5.0",
            "_view_name": "HTMLView",
            "description": "",
            "description_tooltip": null,
            "layout": "IPY_MODEL_0c98d524944a4ff886d588bc9f95f4ef",
            "placeholder": "​",
            "style": "IPY_MODEL_50e423eeb23a4275abfcc725c08946b6",
            "value": "100%"
          }
        },
        "20fecccd608f4b029137149e343323c5": {
          "model_module": "@jupyter-widgets/controls",
          "model_name": "FloatProgressModel",
          "model_module_version": "1.5.0",
          "state": {
            "_dom_classes": [],
            "_model_module": "@jupyter-widgets/controls",
            "_model_module_version": "1.5.0",
            "_model_name": "FloatProgressModel",
            "_view_count": null,
            "_view_module": "@jupyter-widgets/controls",
            "_view_module_version": "1.5.0",
            "_view_name": "ProgressView",
            "bar_style": "success",
            "description": "",
            "description_tooltip": null,
            "layout": "IPY_MODEL_7c4b75f714bb4a9798d6c8d8611e61ea",
            "max": 25,
            "min": 0,
            "orientation": "horizontal",
            "style": "IPY_MODEL_f6798cf454f34eb380cb97c75f62579e",
            "value": 25
          }
        },
        "c085dc5a25914c75a23815499943e840": {
          "model_module": "@jupyter-widgets/controls",
          "model_name": "HTMLModel",
          "model_module_version": "1.5.0",
          "state": {
            "_dom_classes": [],
            "_model_module": "@jupyter-widgets/controls",
            "_model_module_version": "1.5.0",
            "_model_name": "HTMLModel",
            "_view_count": null,
            "_view_module": "@jupyter-widgets/controls",
            "_view_module_version": "1.5.0",
            "_view_name": "HTMLView",
            "description": "",
            "description_tooltip": null,
            "layout": "IPY_MODEL_35eb7deeefc943fdb09814256e084ca1",
            "placeholder": "​",
            "style": "IPY_MODEL_337ed403458e49a2b5c068d9e23bdb0e",
            "value": " 25/25 [01:01&lt;00:00,  2.68s/it]"
          }
        },
        "db3e7cc282a7435b9f90642f5968e494": {
          "model_module": "@jupyter-widgets/base",
          "model_name": "LayoutModel",
          "model_module_version": "1.2.0",
          "state": {
            "_model_module": "@jupyter-widgets/base",
            "_model_module_version": "1.2.0",
            "_model_name": "LayoutModel",
            "_view_count": null,
            "_view_module": "@jupyter-widgets/base",
            "_view_module_version": "1.2.0",
            "_view_name": "LayoutView",
            "align_content": null,
            "align_items": null,
            "align_self": null,
            "border": null,
            "bottom": null,
            "display": null,
            "flex": null,
            "flex_flow": null,
            "grid_area": null,
            "grid_auto_columns": null,
            "grid_auto_flow": null,
            "grid_auto_rows": null,
            "grid_column": null,
            "grid_gap": null,
            "grid_row": null,
            "grid_template_areas": null,
            "grid_template_columns": null,
            "grid_template_rows": null,
            "height": null,
            "justify_content": null,
            "justify_items": null,
            "left": null,
            "margin": null,
            "max_height": null,
            "max_width": null,
            "min_height": null,
            "min_width": null,
            "object_fit": null,
            "object_position": null,
            "order": null,
            "overflow": null,
            "overflow_x": null,
            "overflow_y": null,
            "padding": null,
            "right": null,
            "top": null,
            "visibility": null,
            "width": null
          }
        },
        "0c98d524944a4ff886d588bc9f95f4ef": {
          "model_module": "@jupyter-widgets/base",
          "model_name": "LayoutModel",
          "model_module_version": "1.2.0",
          "state": {
            "_model_module": "@jupyter-widgets/base",
            "_model_module_version": "1.2.0",
            "_model_name": "LayoutModel",
            "_view_count": null,
            "_view_module": "@jupyter-widgets/base",
            "_view_module_version": "1.2.0",
            "_view_name": "LayoutView",
            "align_content": null,
            "align_items": null,
            "align_self": null,
            "border": null,
            "bottom": null,
            "display": null,
            "flex": null,
            "flex_flow": null,
            "grid_area": null,
            "grid_auto_columns": null,
            "grid_auto_flow": null,
            "grid_auto_rows": null,
            "grid_column": null,
            "grid_gap": null,
            "grid_row": null,
            "grid_template_areas": null,
            "grid_template_columns": null,
            "grid_template_rows": null,
            "height": null,
            "justify_content": null,
            "justify_items": null,
            "left": null,
            "margin": null,
            "max_height": null,
            "max_width": null,
            "min_height": null,
            "min_width": null,
            "object_fit": null,
            "object_position": null,
            "order": null,
            "overflow": null,
            "overflow_x": null,
            "overflow_y": null,
            "padding": null,
            "right": null,
            "top": null,
            "visibility": null,
            "width": null
          }
        },
        "50e423eeb23a4275abfcc725c08946b6": {
          "model_module": "@jupyter-widgets/controls",
          "model_name": "DescriptionStyleModel",
          "model_module_version": "1.5.0",
          "state": {
            "_model_module": "@jupyter-widgets/controls",
            "_model_module_version": "1.5.0",
            "_model_name": "DescriptionStyleModel",
            "_view_count": null,
            "_view_module": "@jupyter-widgets/base",
            "_view_module_version": "1.2.0",
            "_view_name": "StyleView",
            "description_width": ""
          }
        },
        "7c4b75f714bb4a9798d6c8d8611e61ea": {
          "model_module": "@jupyter-widgets/base",
          "model_name": "LayoutModel",
          "model_module_version": "1.2.0",
          "state": {
            "_model_module": "@jupyter-widgets/base",
            "_model_module_version": "1.2.0",
            "_model_name": "LayoutModel",
            "_view_count": null,
            "_view_module": "@jupyter-widgets/base",
            "_view_module_version": "1.2.0",
            "_view_name": "LayoutView",
            "align_content": null,
            "align_items": null,
            "align_self": null,
            "border": null,
            "bottom": null,
            "display": null,
            "flex": null,
            "flex_flow": null,
            "grid_area": null,
            "grid_auto_columns": null,
            "grid_auto_flow": null,
            "grid_auto_rows": null,
            "grid_column": null,
            "grid_gap": null,
            "grid_row": null,
            "grid_template_areas": null,
            "grid_template_columns": null,
            "grid_template_rows": null,
            "height": null,
            "justify_content": null,
            "justify_items": null,
            "left": null,
            "margin": null,
            "max_height": null,
            "max_width": null,
            "min_height": null,
            "min_width": null,
            "object_fit": null,
            "object_position": null,
            "order": null,
            "overflow": null,
            "overflow_x": null,
            "overflow_y": null,
            "padding": null,
            "right": null,
            "top": null,
            "visibility": null,
            "width": null
          }
        },
        "f6798cf454f34eb380cb97c75f62579e": {
          "model_module": "@jupyter-widgets/controls",
          "model_name": "ProgressStyleModel",
          "model_module_version": "1.5.0",
          "state": {
            "_model_module": "@jupyter-widgets/controls",
            "_model_module_version": "1.5.0",
            "_model_name": "ProgressStyleModel",
            "_view_count": null,
            "_view_module": "@jupyter-widgets/base",
            "_view_module_version": "1.2.0",
            "_view_name": "StyleView",
            "bar_color": null,
            "description_width": ""
          }
        },
        "35eb7deeefc943fdb09814256e084ca1": {
          "model_module": "@jupyter-widgets/base",
          "model_name": "LayoutModel",
          "model_module_version": "1.2.0",
          "state": {
            "_model_module": "@jupyter-widgets/base",
            "_model_module_version": "1.2.0",
            "_model_name": "LayoutModel",
            "_view_count": null,
            "_view_module": "@jupyter-widgets/base",
            "_view_module_version": "1.2.0",
            "_view_name": "LayoutView",
            "align_content": null,
            "align_items": null,
            "align_self": null,
            "border": null,
            "bottom": null,
            "display": null,
            "flex": null,
            "flex_flow": null,
            "grid_area": null,
            "grid_auto_columns": null,
            "grid_auto_flow": null,
            "grid_auto_rows": null,
            "grid_column": null,
            "grid_gap": null,
            "grid_row": null,
            "grid_template_areas": null,
            "grid_template_columns": null,
            "grid_template_rows": null,
            "height": null,
            "justify_content": null,
            "justify_items": null,
            "left": null,
            "margin": null,
            "max_height": null,
            "max_width": null,
            "min_height": null,
            "min_width": null,
            "object_fit": null,
            "object_position": null,
            "order": null,
            "overflow": null,
            "overflow_x": null,
            "overflow_y": null,
            "padding": null,
            "right": null,
            "top": null,
            "visibility": null,
            "width": null
          }
        },
        "337ed403458e49a2b5c068d9e23bdb0e": {
          "model_module": "@jupyter-widgets/controls",
          "model_name": "DescriptionStyleModel",
          "model_module_version": "1.5.0",
          "state": {
            "_model_module": "@jupyter-widgets/controls",
            "_model_module_version": "1.5.0",
            "_model_name": "DescriptionStyleModel",
            "_view_count": null,
            "_view_module": "@jupyter-widgets/base",
            "_view_module_version": "1.2.0",
            "_view_name": "StyleView",
            "description_width": ""
          }
        },
        "d8d6e66401a74e4b88d6c6dfb94e5963": {
          "model_module": "@jupyter-widgets/controls",
          "model_name": "HBoxModel",
          "model_module_version": "1.5.0",
          "state": {
            "_dom_classes": [],
            "_model_module": "@jupyter-widgets/controls",
            "_model_module_version": "1.5.0",
            "_model_name": "HBoxModel",
            "_view_count": null,
            "_view_module": "@jupyter-widgets/controls",
            "_view_module_version": "1.5.0",
            "_view_name": "HBoxView",
            "box_style": "",
            "children": [
              "IPY_MODEL_4ccdb37e880c4292aa76df7b3566e5cc",
              "IPY_MODEL_de1e24465c514b6a9597272c69c25b5c",
              "IPY_MODEL_7696a0ca49874888bd687b733775b631"
            ],
            "layout": "IPY_MODEL_5e64907130d44b408a93aa1fdbcdb237"
          }
        },
        "4ccdb37e880c4292aa76df7b3566e5cc": {
          "model_module": "@jupyter-widgets/controls",
          "model_name": "HTMLModel",
          "model_module_version": "1.5.0",
          "state": {
            "_dom_classes": [],
            "_model_module": "@jupyter-widgets/controls",
            "_model_module_version": "1.5.0",
            "_model_name": "HTMLModel",
            "_view_count": null,
            "_view_module": "@jupyter-widgets/controls",
            "_view_module_version": "1.5.0",
            "_view_name": "HTMLView",
            "description": "",
            "description_tooltip": null,
            "layout": "IPY_MODEL_d86ec33856b54205a81a58dfa0903def",
            "placeholder": "​",
            "style": "IPY_MODEL_7e832750b3c043d59b5e6ef25a1786bc",
            "value": "100%"
          }
        },
        "de1e24465c514b6a9597272c69c25b5c": {
          "model_module": "@jupyter-widgets/controls",
          "model_name": "FloatProgressModel",
          "model_module_version": "1.5.0",
          "state": {
            "_dom_classes": [],
            "_model_module": "@jupyter-widgets/controls",
            "_model_module_version": "1.5.0",
            "_model_name": "FloatProgressModel",
            "_view_count": null,
            "_view_module": "@jupyter-widgets/controls",
            "_view_module_version": "1.5.0",
            "_view_name": "ProgressView",
            "bar_style": "success",
            "description": "",
            "description_tooltip": null,
            "layout": "IPY_MODEL_def38230f0e84824bc8da288c371364a",
            "max": 25,
            "min": 0,
            "orientation": "horizontal",
            "style": "IPY_MODEL_e0006257503542b8875391e4f3b595fe",
            "value": 25
          }
        },
        "7696a0ca49874888bd687b733775b631": {
          "model_module": "@jupyter-widgets/controls",
          "model_name": "HTMLModel",
          "model_module_version": "1.5.0",
          "state": {
            "_dom_classes": [],
            "_model_module": "@jupyter-widgets/controls",
            "_model_module_version": "1.5.0",
            "_model_name": "HTMLModel",
            "_view_count": null,
            "_view_module": "@jupyter-widgets/controls",
            "_view_module_version": "1.5.0",
            "_view_name": "HTMLView",
            "description": "",
            "description_tooltip": null,
            "layout": "IPY_MODEL_b336b1ea2cf84f46b199b40d30dce66e",
            "placeholder": "​",
            "style": "IPY_MODEL_449afdff100b4088bd15dc616fc27bfe",
            "value": " 25/25 [00:57&lt;00:00,  2.17s/it]"
          }
        },
        "5e64907130d44b408a93aa1fdbcdb237": {
          "model_module": "@jupyter-widgets/base",
          "model_name": "LayoutModel",
          "model_module_version": "1.2.0",
          "state": {
            "_model_module": "@jupyter-widgets/base",
            "_model_module_version": "1.2.0",
            "_model_name": "LayoutModel",
            "_view_count": null,
            "_view_module": "@jupyter-widgets/base",
            "_view_module_version": "1.2.0",
            "_view_name": "LayoutView",
            "align_content": null,
            "align_items": null,
            "align_self": null,
            "border": null,
            "bottom": null,
            "display": null,
            "flex": null,
            "flex_flow": null,
            "grid_area": null,
            "grid_auto_columns": null,
            "grid_auto_flow": null,
            "grid_auto_rows": null,
            "grid_column": null,
            "grid_gap": null,
            "grid_row": null,
            "grid_template_areas": null,
            "grid_template_columns": null,
            "grid_template_rows": null,
            "height": null,
            "justify_content": null,
            "justify_items": null,
            "left": null,
            "margin": null,
            "max_height": null,
            "max_width": null,
            "min_height": null,
            "min_width": null,
            "object_fit": null,
            "object_position": null,
            "order": null,
            "overflow": null,
            "overflow_x": null,
            "overflow_y": null,
            "padding": null,
            "right": null,
            "top": null,
            "visibility": null,
            "width": null
          }
        },
        "d86ec33856b54205a81a58dfa0903def": {
          "model_module": "@jupyter-widgets/base",
          "model_name": "LayoutModel",
          "model_module_version": "1.2.0",
          "state": {
            "_model_module": "@jupyter-widgets/base",
            "_model_module_version": "1.2.0",
            "_model_name": "LayoutModel",
            "_view_count": null,
            "_view_module": "@jupyter-widgets/base",
            "_view_module_version": "1.2.0",
            "_view_name": "LayoutView",
            "align_content": null,
            "align_items": null,
            "align_self": null,
            "border": null,
            "bottom": null,
            "display": null,
            "flex": null,
            "flex_flow": null,
            "grid_area": null,
            "grid_auto_columns": null,
            "grid_auto_flow": null,
            "grid_auto_rows": null,
            "grid_column": null,
            "grid_gap": null,
            "grid_row": null,
            "grid_template_areas": null,
            "grid_template_columns": null,
            "grid_template_rows": null,
            "height": null,
            "justify_content": null,
            "justify_items": null,
            "left": null,
            "margin": null,
            "max_height": null,
            "max_width": null,
            "min_height": null,
            "min_width": null,
            "object_fit": null,
            "object_position": null,
            "order": null,
            "overflow": null,
            "overflow_x": null,
            "overflow_y": null,
            "padding": null,
            "right": null,
            "top": null,
            "visibility": null,
            "width": null
          }
        },
        "7e832750b3c043d59b5e6ef25a1786bc": {
          "model_module": "@jupyter-widgets/controls",
          "model_name": "DescriptionStyleModel",
          "model_module_version": "1.5.0",
          "state": {
            "_model_module": "@jupyter-widgets/controls",
            "_model_module_version": "1.5.0",
            "_model_name": "DescriptionStyleModel",
            "_view_count": null,
            "_view_module": "@jupyter-widgets/base",
            "_view_module_version": "1.2.0",
            "_view_name": "StyleView",
            "description_width": ""
          }
        },
        "def38230f0e84824bc8da288c371364a": {
          "model_module": "@jupyter-widgets/base",
          "model_name": "LayoutModel",
          "model_module_version": "1.2.0",
          "state": {
            "_model_module": "@jupyter-widgets/base",
            "_model_module_version": "1.2.0",
            "_model_name": "LayoutModel",
            "_view_count": null,
            "_view_module": "@jupyter-widgets/base",
            "_view_module_version": "1.2.0",
            "_view_name": "LayoutView",
            "align_content": null,
            "align_items": null,
            "align_self": null,
            "border": null,
            "bottom": null,
            "display": null,
            "flex": null,
            "flex_flow": null,
            "grid_area": null,
            "grid_auto_columns": null,
            "grid_auto_flow": null,
            "grid_auto_rows": null,
            "grid_column": null,
            "grid_gap": null,
            "grid_row": null,
            "grid_template_areas": null,
            "grid_template_columns": null,
            "grid_template_rows": null,
            "height": null,
            "justify_content": null,
            "justify_items": null,
            "left": null,
            "margin": null,
            "max_height": null,
            "max_width": null,
            "min_height": null,
            "min_width": null,
            "object_fit": null,
            "object_position": null,
            "order": null,
            "overflow": null,
            "overflow_x": null,
            "overflow_y": null,
            "padding": null,
            "right": null,
            "top": null,
            "visibility": null,
            "width": null
          }
        },
        "e0006257503542b8875391e4f3b595fe": {
          "model_module": "@jupyter-widgets/controls",
          "model_name": "ProgressStyleModel",
          "model_module_version": "1.5.0",
          "state": {
            "_model_module": "@jupyter-widgets/controls",
            "_model_module_version": "1.5.0",
            "_model_name": "ProgressStyleModel",
            "_view_count": null,
            "_view_module": "@jupyter-widgets/base",
            "_view_module_version": "1.2.0",
            "_view_name": "StyleView",
            "bar_color": null,
            "description_width": ""
          }
        },
        "b336b1ea2cf84f46b199b40d30dce66e": {
          "model_module": "@jupyter-widgets/base",
          "model_name": "LayoutModel",
          "model_module_version": "1.2.0",
          "state": {
            "_model_module": "@jupyter-widgets/base",
            "_model_module_version": "1.2.0",
            "_model_name": "LayoutModel",
            "_view_count": null,
            "_view_module": "@jupyter-widgets/base",
            "_view_module_version": "1.2.0",
            "_view_name": "LayoutView",
            "align_content": null,
            "align_items": null,
            "align_self": null,
            "border": null,
            "bottom": null,
            "display": null,
            "flex": null,
            "flex_flow": null,
            "grid_area": null,
            "grid_auto_columns": null,
            "grid_auto_flow": null,
            "grid_auto_rows": null,
            "grid_column": null,
            "grid_gap": null,
            "grid_row": null,
            "grid_template_areas": null,
            "grid_template_columns": null,
            "grid_template_rows": null,
            "height": null,
            "justify_content": null,
            "justify_items": null,
            "left": null,
            "margin": null,
            "max_height": null,
            "max_width": null,
            "min_height": null,
            "min_width": null,
            "object_fit": null,
            "object_position": null,
            "order": null,
            "overflow": null,
            "overflow_x": null,
            "overflow_y": null,
            "padding": null,
            "right": null,
            "top": null,
            "visibility": null,
            "width": null
          }
        },
        "449afdff100b4088bd15dc616fc27bfe": {
          "model_module": "@jupyter-widgets/controls",
          "model_name": "DescriptionStyleModel",
          "model_module_version": "1.5.0",
          "state": {
            "_model_module": "@jupyter-widgets/controls",
            "_model_module_version": "1.5.0",
            "_model_name": "DescriptionStyleModel",
            "_view_count": null,
            "_view_module": "@jupyter-widgets/base",
            "_view_module_version": "1.2.0",
            "_view_name": "StyleView",
            "description_width": ""
          }
        },
        "bb42e45dfa9d475c8d6fa80a0852dcc9": {
          "model_module": "@jupyter-widgets/controls",
          "model_name": "HBoxModel",
          "model_module_version": "1.5.0",
          "state": {
            "_dom_classes": [],
            "_model_module": "@jupyter-widgets/controls",
            "_model_module_version": "1.5.0",
            "_model_name": "HBoxModel",
            "_view_count": null,
            "_view_module": "@jupyter-widgets/controls",
            "_view_module_version": "1.5.0",
            "_view_name": "HBoxView",
            "box_style": "",
            "children": [
              "IPY_MODEL_e10898cd9e294d8e844b131496713cc9",
              "IPY_MODEL_9aa51d1e92b1431ea704c5bb953670ba",
              "IPY_MODEL_f756b587fd81458cb09e3b5144052403"
            ],
            "layout": "IPY_MODEL_af58ee489b48443f960db3adda02c6ff"
          }
        },
        "e10898cd9e294d8e844b131496713cc9": {
          "model_module": "@jupyter-widgets/controls",
          "model_name": "HTMLModel",
          "model_module_version": "1.5.0",
          "state": {
            "_dom_classes": [],
            "_model_module": "@jupyter-widgets/controls",
            "_model_module_version": "1.5.0",
            "_model_name": "HTMLModel",
            "_view_count": null,
            "_view_module": "@jupyter-widgets/controls",
            "_view_module_version": "1.5.0",
            "_view_name": "HTMLView",
            "description": "",
            "description_tooltip": null,
            "layout": "IPY_MODEL_7e0a3aebe0674be497973c9f4322ecf9",
            "placeholder": "​",
            "style": "IPY_MODEL_f325ed7d269440f2b5c3b27e1e15f65c",
            "value": "100%"
          }
        },
        "9aa51d1e92b1431ea704c5bb953670ba": {
          "model_module": "@jupyter-widgets/controls",
          "model_name": "FloatProgressModel",
          "model_module_version": "1.5.0",
          "state": {
            "_dom_classes": [],
            "_model_module": "@jupyter-widgets/controls",
            "_model_module_version": "1.5.0",
            "_model_name": "FloatProgressModel",
            "_view_count": null,
            "_view_module": "@jupyter-widgets/controls",
            "_view_module_version": "1.5.0",
            "_view_name": "ProgressView",
            "bar_style": "success",
            "description": "",
            "description_tooltip": null,
            "layout": "IPY_MODEL_9b4d50658c07440ca6b0c3e7265a0fac",
            "max": 25,
            "min": 0,
            "orientation": "horizontal",
            "style": "IPY_MODEL_5e6d5c4599bd4bd0a2cfa634d13d5547",
            "value": 25
          }
        },
        "f756b587fd81458cb09e3b5144052403": {
          "model_module": "@jupyter-widgets/controls",
          "model_name": "HTMLModel",
          "model_module_version": "1.5.0",
          "state": {
            "_dom_classes": [],
            "_model_module": "@jupyter-widgets/controls",
            "_model_module_version": "1.5.0",
            "_model_name": "HTMLModel",
            "_view_count": null,
            "_view_module": "@jupyter-widgets/controls",
            "_view_module_version": "1.5.0",
            "_view_name": "HTMLView",
            "description": "",
            "description_tooltip": null,
            "layout": "IPY_MODEL_f85d24001c0e490bb93823e64029a44a",
            "placeholder": "​",
            "style": "IPY_MODEL_497b90b119534be3a063142e0c646e60",
            "value": " 25/25 [01:02&lt;00:00,  2.67s/it]"
          }
        },
        "af58ee489b48443f960db3adda02c6ff": {
          "model_module": "@jupyter-widgets/base",
          "model_name": "LayoutModel",
          "model_module_version": "1.2.0",
          "state": {
            "_model_module": "@jupyter-widgets/base",
            "_model_module_version": "1.2.0",
            "_model_name": "LayoutModel",
            "_view_count": null,
            "_view_module": "@jupyter-widgets/base",
            "_view_module_version": "1.2.0",
            "_view_name": "LayoutView",
            "align_content": null,
            "align_items": null,
            "align_self": null,
            "border": null,
            "bottom": null,
            "display": null,
            "flex": null,
            "flex_flow": null,
            "grid_area": null,
            "grid_auto_columns": null,
            "grid_auto_flow": null,
            "grid_auto_rows": null,
            "grid_column": null,
            "grid_gap": null,
            "grid_row": null,
            "grid_template_areas": null,
            "grid_template_columns": null,
            "grid_template_rows": null,
            "height": null,
            "justify_content": null,
            "justify_items": null,
            "left": null,
            "margin": null,
            "max_height": null,
            "max_width": null,
            "min_height": null,
            "min_width": null,
            "object_fit": null,
            "object_position": null,
            "order": null,
            "overflow": null,
            "overflow_x": null,
            "overflow_y": null,
            "padding": null,
            "right": null,
            "top": null,
            "visibility": null,
            "width": null
          }
        },
        "7e0a3aebe0674be497973c9f4322ecf9": {
          "model_module": "@jupyter-widgets/base",
          "model_name": "LayoutModel",
          "model_module_version": "1.2.0",
          "state": {
            "_model_module": "@jupyter-widgets/base",
            "_model_module_version": "1.2.0",
            "_model_name": "LayoutModel",
            "_view_count": null,
            "_view_module": "@jupyter-widgets/base",
            "_view_module_version": "1.2.0",
            "_view_name": "LayoutView",
            "align_content": null,
            "align_items": null,
            "align_self": null,
            "border": null,
            "bottom": null,
            "display": null,
            "flex": null,
            "flex_flow": null,
            "grid_area": null,
            "grid_auto_columns": null,
            "grid_auto_flow": null,
            "grid_auto_rows": null,
            "grid_column": null,
            "grid_gap": null,
            "grid_row": null,
            "grid_template_areas": null,
            "grid_template_columns": null,
            "grid_template_rows": null,
            "height": null,
            "justify_content": null,
            "justify_items": null,
            "left": null,
            "margin": null,
            "max_height": null,
            "max_width": null,
            "min_height": null,
            "min_width": null,
            "object_fit": null,
            "object_position": null,
            "order": null,
            "overflow": null,
            "overflow_x": null,
            "overflow_y": null,
            "padding": null,
            "right": null,
            "top": null,
            "visibility": null,
            "width": null
          }
        },
        "f325ed7d269440f2b5c3b27e1e15f65c": {
          "model_module": "@jupyter-widgets/controls",
          "model_name": "DescriptionStyleModel",
          "model_module_version": "1.5.0",
          "state": {
            "_model_module": "@jupyter-widgets/controls",
            "_model_module_version": "1.5.0",
            "_model_name": "DescriptionStyleModel",
            "_view_count": null,
            "_view_module": "@jupyter-widgets/base",
            "_view_module_version": "1.2.0",
            "_view_name": "StyleView",
            "description_width": ""
          }
        },
        "9b4d50658c07440ca6b0c3e7265a0fac": {
          "model_module": "@jupyter-widgets/base",
          "model_name": "LayoutModel",
          "model_module_version": "1.2.0",
          "state": {
            "_model_module": "@jupyter-widgets/base",
            "_model_module_version": "1.2.0",
            "_model_name": "LayoutModel",
            "_view_count": null,
            "_view_module": "@jupyter-widgets/base",
            "_view_module_version": "1.2.0",
            "_view_name": "LayoutView",
            "align_content": null,
            "align_items": null,
            "align_self": null,
            "border": null,
            "bottom": null,
            "display": null,
            "flex": null,
            "flex_flow": null,
            "grid_area": null,
            "grid_auto_columns": null,
            "grid_auto_flow": null,
            "grid_auto_rows": null,
            "grid_column": null,
            "grid_gap": null,
            "grid_row": null,
            "grid_template_areas": null,
            "grid_template_columns": null,
            "grid_template_rows": null,
            "height": null,
            "justify_content": null,
            "justify_items": null,
            "left": null,
            "margin": null,
            "max_height": null,
            "max_width": null,
            "min_height": null,
            "min_width": null,
            "object_fit": null,
            "object_position": null,
            "order": null,
            "overflow": null,
            "overflow_x": null,
            "overflow_y": null,
            "padding": null,
            "right": null,
            "top": null,
            "visibility": null,
            "width": null
          }
        },
        "5e6d5c4599bd4bd0a2cfa634d13d5547": {
          "model_module": "@jupyter-widgets/controls",
          "model_name": "ProgressStyleModel",
          "model_module_version": "1.5.0",
          "state": {
            "_model_module": "@jupyter-widgets/controls",
            "_model_module_version": "1.5.0",
            "_model_name": "ProgressStyleModel",
            "_view_count": null,
            "_view_module": "@jupyter-widgets/base",
            "_view_module_version": "1.2.0",
            "_view_name": "StyleView",
            "bar_color": null,
            "description_width": ""
          }
        },
        "f85d24001c0e490bb93823e64029a44a": {
          "model_module": "@jupyter-widgets/base",
          "model_name": "LayoutModel",
          "model_module_version": "1.2.0",
          "state": {
            "_model_module": "@jupyter-widgets/base",
            "_model_module_version": "1.2.0",
            "_model_name": "LayoutModel",
            "_view_count": null,
            "_view_module": "@jupyter-widgets/base",
            "_view_module_version": "1.2.0",
            "_view_name": "LayoutView",
            "align_content": null,
            "align_items": null,
            "align_self": null,
            "border": null,
            "bottom": null,
            "display": null,
            "flex": null,
            "flex_flow": null,
            "grid_area": null,
            "grid_auto_columns": null,
            "grid_auto_flow": null,
            "grid_auto_rows": null,
            "grid_column": null,
            "grid_gap": null,
            "grid_row": null,
            "grid_template_areas": null,
            "grid_template_columns": null,
            "grid_template_rows": null,
            "height": null,
            "justify_content": null,
            "justify_items": null,
            "left": null,
            "margin": null,
            "max_height": null,
            "max_width": null,
            "min_height": null,
            "min_width": null,
            "object_fit": null,
            "object_position": null,
            "order": null,
            "overflow": null,
            "overflow_x": null,
            "overflow_y": null,
            "padding": null,
            "right": null,
            "top": null,
            "visibility": null,
            "width": null
          }
        },
        "497b90b119534be3a063142e0c646e60": {
          "model_module": "@jupyter-widgets/controls",
          "model_name": "DescriptionStyleModel",
          "model_module_version": "1.5.0",
          "state": {
            "_model_module": "@jupyter-widgets/controls",
            "_model_module_version": "1.5.0",
            "_model_name": "DescriptionStyleModel",
            "_view_count": null,
            "_view_module": "@jupyter-widgets/base",
            "_view_module_version": "1.2.0",
            "_view_name": "StyleView",
            "description_width": ""
          }
        },
        "cb14ae778ac84d1c93611f8d1d4895bb": {
          "model_module": "@jupyter-widgets/controls",
          "model_name": "HBoxModel",
          "model_module_version": "1.5.0",
          "state": {
            "_dom_classes": [],
            "_model_module": "@jupyter-widgets/controls",
            "_model_module_version": "1.5.0",
            "_model_name": "HBoxModel",
            "_view_count": null,
            "_view_module": "@jupyter-widgets/controls",
            "_view_module_version": "1.5.0",
            "_view_name": "HBoxView",
            "box_style": "",
            "children": [
              "IPY_MODEL_1d342ecf999f4c0bb1c81bfa9c385e81",
              "IPY_MODEL_7b139f5d38ae45fe98d3ef5bb0839aa7",
              "IPY_MODEL_0a85835b79174d2aafebfc26bfcf652e"
            ],
            "layout": "IPY_MODEL_0ea04e2ede4940c1891579159ae6e66b"
          }
        },
        "1d342ecf999f4c0bb1c81bfa9c385e81": {
          "model_module": "@jupyter-widgets/controls",
          "model_name": "HTMLModel",
          "model_module_version": "1.5.0",
          "state": {
            "_dom_classes": [],
            "_model_module": "@jupyter-widgets/controls",
            "_model_module_version": "1.5.0",
            "_model_name": "HTMLModel",
            "_view_count": null,
            "_view_module": "@jupyter-widgets/controls",
            "_view_module_version": "1.5.0",
            "_view_name": "HTMLView",
            "description": "",
            "description_tooltip": null,
            "layout": "IPY_MODEL_f2398bd553c9479f8dd8d29d4384a67c",
            "placeholder": "​",
            "style": "IPY_MODEL_b9d7bb3cd0354d03b357db0e4dfbc1e5",
            "value": "100%"
          }
        },
        "7b139f5d38ae45fe98d3ef5bb0839aa7": {
          "model_module": "@jupyter-widgets/controls",
          "model_name": "FloatProgressModel",
          "model_module_version": "1.5.0",
          "state": {
            "_dom_classes": [],
            "_model_module": "@jupyter-widgets/controls",
            "_model_module_version": "1.5.0",
            "_model_name": "FloatProgressModel",
            "_view_count": null,
            "_view_module": "@jupyter-widgets/controls",
            "_view_module_version": "1.5.0",
            "_view_name": "ProgressView",
            "bar_style": "success",
            "description": "",
            "description_tooltip": null,
            "layout": "IPY_MODEL_2effea40d1e64a6f9d880d997e8e1967",
            "max": 25,
            "min": 0,
            "orientation": "horizontal",
            "style": "IPY_MODEL_f4b3b7be18444d3ba1d5c0fff0baa2a8",
            "value": 25
          }
        },
        "0a85835b79174d2aafebfc26bfcf652e": {
          "model_module": "@jupyter-widgets/controls",
          "model_name": "HTMLModel",
          "model_module_version": "1.5.0",
          "state": {
            "_dom_classes": [],
            "_model_module": "@jupyter-widgets/controls",
            "_model_module_version": "1.5.0",
            "_model_name": "HTMLModel",
            "_view_count": null,
            "_view_module": "@jupyter-widgets/controls",
            "_view_module_version": "1.5.0",
            "_view_name": "HTMLView",
            "description": "",
            "description_tooltip": null,
            "layout": "IPY_MODEL_a0e8033f315a4d84bb3c75ec2948873a",
            "placeholder": "​",
            "style": "IPY_MODEL_4e3ec1b699de451eac0bc06dbc5b0d71",
            "value": " 25/25 [00:59&lt;00:00,  2.32s/it]"
          }
        },
        "0ea04e2ede4940c1891579159ae6e66b": {
          "model_module": "@jupyter-widgets/base",
          "model_name": "LayoutModel",
          "model_module_version": "1.2.0",
          "state": {
            "_model_module": "@jupyter-widgets/base",
            "_model_module_version": "1.2.0",
            "_model_name": "LayoutModel",
            "_view_count": null,
            "_view_module": "@jupyter-widgets/base",
            "_view_module_version": "1.2.0",
            "_view_name": "LayoutView",
            "align_content": null,
            "align_items": null,
            "align_self": null,
            "border": null,
            "bottom": null,
            "display": null,
            "flex": null,
            "flex_flow": null,
            "grid_area": null,
            "grid_auto_columns": null,
            "grid_auto_flow": null,
            "grid_auto_rows": null,
            "grid_column": null,
            "grid_gap": null,
            "grid_row": null,
            "grid_template_areas": null,
            "grid_template_columns": null,
            "grid_template_rows": null,
            "height": null,
            "justify_content": null,
            "justify_items": null,
            "left": null,
            "margin": null,
            "max_height": null,
            "max_width": null,
            "min_height": null,
            "min_width": null,
            "object_fit": null,
            "object_position": null,
            "order": null,
            "overflow": null,
            "overflow_x": null,
            "overflow_y": null,
            "padding": null,
            "right": null,
            "top": null,
            "visibility": null,
            "width": null
          }
        },
        "f2398bd553c9479f8dd8d29d4384a67c": {
          "model_module": "@jupyter-widgets/base",
          "model_name": "LayoutModel",
          "model_module_version": "1.2.0",
          "state": {
            "_model_module": "@jupyter-widgets/base",
            "_model_module_version": "1.2.0",
            "_model_name": "LayoutModel",
            "_view_count": null,
            "_view_module": "@jupyter-widgets/base",
            "_view_module_version": "1.2.0",
            "_view_name": "LayoutView",
            "align_content": null,
            "align_items": null,
            "align_self": null,
            "border": null,
            "bottom": null,
            "display": null,
            "flex": null,
            "flex_flow": null,
            "grid_area": null,
            "grid_auto_columns": null,
            "grid_auto_flow": null,
            "grid_auto_rows": null,
            "grid_column": null,
            "grid_gap": null,
            "grid_row": null,
            "grid_template_areas": null,
            "grid_template_columns": null,
            "grid_template_rows": null,
            "height": null,
            "justify_content": null,
            "justify_items": null,
            "left": null,
            "margin": null,
            "max_height": null,
            "max_width": null,
            "min_height": null,
            "min_width": null,
            "object_fit": null,
            "object_position": null,
            "order": null,
            "overflow": null,
            "overflow_x": null,
            "overflow_y": null,
            "padding": null,
            "right": null,
            "top": null,
            "visibility": null,
            "width": null
          }
        },
        "b9d7bb3cd0354d03b357db0e4dfbc1e5": {
          "model_module": "@jupyter-widgets/controls",
          "model_name": "DescriptionStyleModel",
          "model_module_version": "1.5.0",
          "state": {
            "_model_module": "@jupyter-widgets/controls",
            "_model_module_version": "1.5.0",
            "_model_name": "DescriptionStyleModel",
            "_view_count": null,
            "_view_module": "@jupyter-widgets/base",
            "_view_module_version": "1.2.0",
            "_view_name": "StyleView",
            "description_width": ""
          }
        },
        "2effea40d1e64a6f9d880d997e8e1967": {
          "model_module": "@jupyter-widgets/base",
          "model_name": "LayoutModel",
          "model_module_version": "1.2.0",
          "state": {
            "_model_module": "@jupyter-widgets/base",
            "_model_module_version": "1.2.0",
            "_model_name": "LayoutModel",
            "_view_count": null,
            "_view_module": "@jupyter-widgets/base",
            "_view_module_version": "1.2.0",
            "_view_name": "LayoutView",
            "align_content": null,
            "align_items": null,
            "align_self": null,
            "border": null,
            "bottom": null,
            "display": null,
            "flex": null,
            "flex_flow": null,
            "grid_area": null,
            "grid_auto_columns": null,
            "grid_auto_flow": null,
            "grid_auto_rows": null,
            "grid_column": null,
            "grid_gap": null,
            "grid_row": null,
            "grid_template_areas": null,
            "grid_template_columns": null,
            "grid_template_rows": null,
            "height": null,
            "justify_content": null,
            "justify_items": null,
            "left": null,
            "margin": null,
            "max_height": null,
            "max_width": null,
            "min_height": null,
            "min_width": null,
            "object_fit": null,
            "object_position": null,
            "order": null,
            "overflow": null,
            "overflow_x": null,
            "overflow_y": null,
            "padding": null,
            "right": null,
            "top": null,
            "visibility": null,
            "width": null
          }
        },
        "f4b3b7be18444d3ba1d5c0fff0baa2a8": {
          "model_module": "@jupyter-widgets/controls",
          "model_name": "ProgressStyleModel",
          "model_module_version": "1.5.0",
          "state": {
            "_model_module": "@jupyter-widgets/controls",
            "_model_module_version": "1.5.0",
            "_model_name": "ProgressStyleModel",
            "_view_count": null,
            "_view_module": "@jupyter-widgets/base",
            "_view_module_version": "1.2.0",
            "_view_name": "StyleView",
            "bar_color": null,
            "description_width": ""
          }
        },
        "a0e8033f315a4d84bb3c75ec2948873a": {
          "model_module": "@jupyter-widgets/base",
          "model_name": "LayoutModel",
          "model_module_version": "1.2.0",
          "state": {
            "_model_module": "@jupyter-widgets/base",
            "_model_module_version": "1.2.0",
            "_model_name": "LayoutModel",
            "_view_count": null,
            "_view_module": "@jupyter-widgets/base",
            "_view_module_version": "1.2.0",
            "_view_name": "LayoutView",
            "align_content": null,
            "align_items": null,
            "align_self": null,
            "border": null,
            "bottom": null,
            "display": null,
            "flex": null,
            "flex_flow": null,
            "grid_area": null,
            "grid_auto_columns": null,
            "grid_auto_flow": null,
            "grid_auto_rows": null,
            "grid_column": null,
            "grid_gap": null,
            "grid_row": null,
            "grid_template_areas": null,
            "grid_template_columns": null,
            "grid_template_rows": null,
            "height": null,
            "justify_content": null,
            "justify_items": null,
            "left": null,
            "margin": null,
            "max_height": null,
            "max_width": null,
            "min_height": null,
            "min_width": null,
            "object_fit": null,
            "object_position": null,
            "order": null,
            "overflow": null,
            "overflow_x": null,
            "overflow_y": null,
            "padding": null,
            "right": null,
            "top": null,
            "visibility": null,
            "width": null
          }
        },
        "4e3ec1b699de451eac0bc06dbc5b0d71": {
          "model_module": "@jupyter-widgets/controls",
          "model_name": "DescriptionStyleModel",
          "model_module_version": "1.5.0",
          "state": {
            "_model_module": "@jupyter-widgets/controls",
            "_model_module_version": "1.5.0",
            "_model_name": "DescriptionStyleModel",
            "_view_count": null,
            "_view_module": "@jupyter-widgets/base",
            "_view_module_version": "1.2.0",
            "_view_name": "StyleView",
            "description_width": ""
          }
        },
        "a99cc901693541afae5ffd9c5683f5dd": {
          "model_module": "@jupyter-widgets/controls",
          "model_name": "HBoxModel",
          "model_module_version": "1.5.0",
          "state": {
            "_dom_classes": [],
            "_model_module": "@jupyter-widgets/controls",
            "_model_module_version": "1.5.0",
            "_model_name": "HBoxModel",
            "_view_count": null,
            "_view_module": "@jupyter-widgets/controls",
            "_view_module_version": "1.5.0",
            "_view_name": "HBoxView",
            "box_style": "",
            "children": [
              "IPY_MODEL_e8c7c5aa83ea4fb38154d324878c866a",
              "IPY_MODEL_d0c168274eed4c70ae0457559b303e79",
              "IPY_MODEL_dfc8dce730b44d1fa0ef9d1cbdc74246"
            ],
            "layout": "IPY_MODEL_fab257fd86ea4897bc693fa119e766d9"
          }
        },
        "e8c7c5aa83ea4fb38154d324878c866a": {
          "model_module": "@jupyter-widgets/controls",
          "model_name": "HTMLModel",
          "model_module_version": "1.5.0",
          "state": {
            "_dom_classes": [],
            "_model_module": "@jupyter-widgets/controls",
            "_model_module_version": "1.5.0",
            "_model_name": "HTMLModel",
            "_view_count": null,
            "_view_module": "@jupyter-widgets/controls",
            "_view_module_version": "1.5.0",
            "_view_name": "HTMLView",
            "description": "",
            "description_tooltip": null,
            "layout": "IPY_MODEL_305d833e57dd4a11bc76d1bd8269b2dc",
            "placeholder": "​",
            "style": "IPY_MODEL_337293b6025f407aa9d2a45b670999be",
            "value": "100%"
          }
        },
        "d0c168274eed4c70ae0457559b303e79": {
          "model_module": "@jupyter-widgets/controls",
          "model_name": "FloatProgressModel",
          "model_module_version": "1.5.0",
          "state": {
            "_dom_classes": [],
            "_model_module": "@jupyter-widgets/controls",
            "_model_module_version": "1.5.0",
            "_model_name": "FloatProgressModel",
            "_view_count": null,
            "_view_module": "@jupyter-widgets/controls",
            "_view_module_version": "1.5.0",
            "_view_name": "ProgressView",
            "bar_style": "success",
            "description": "",
            "description_tooltip": null,
            "layout": "IPY_MODEL_73f58fdce4b44c5db2076d5fa7fd4842",
            "max": 25,
            "min": 0,
            "orientation": "horizontal",
            "style": "IPY_MODEL_a7cf101260ba4dcca9168745ac0960b6",
            "value": 25
          }
        },
        "dfc8dce730b44d1fa0ef9d1cbdc74246": {
          "model_module": "@jupyter-widgets/controls",
          "model_name": "HTMLModel",
          "model_module_version": "1.5.0",
          "state": {
            "_dom_classes": [],
            "_model_module": "@jupyter-widgets/controls",
            "_model_module_version": "1.5.0",
            "_model_name": "HTMLModel",
            "_view_count": null,
            "_view_module": "@jupyter-widgets/controls",
            "_view_module_version": "1.5.0",
            "_view_name": "HTMLView",
            "description": "",
            "description_tooltip": null,
            "layout": "IPY_MODEL_59e6fc96cbc74afa879f8f729fbcabf1",
            "placeholder": "​",
            "style": "IPY_MODEL_e768a5762d5a4d8f83f31e674dd5589c",
            "value": " 25/25 [01:05&lt;00:00,  2.82s/it]"
          }
        },
        "fab257fd86ea4897bc693fa119e766d9": {
          "model_module": "@jupyter-widgets/base",
          "model_name": "LayoutModel",
          "model_module_version": "1.2.0",
          "state": {
            "_model_module": "@jupyter-widgets/base",
            "_model_module_version": "1.2.0",
            "_model_name": "LayoutModel",
            "_view_count": null,
            "_view_module": "@jupyter-widgets/base",
            "_view_module_version": "1.2.0",
            "_view_name": "LayoutView",
            "align_content": null,
            "align_items": null,
            "align_self": null,
            "border": null,
            "bottom": null,
            "display": null,
            "flex": null,
            "flex_flow": null,
            "grid_area": null,
            "grid_auto_columns": null,
            "grid_auto_flow": null,
            "grid_auto_rows": null,
            "grid_column": null,
            "grid_gap": null,
            "grid_row": null,
            "grid_template_areas": null,
            "grid_template_columns": null,
            "grid_template_rows": null,
            "height": null,
            "justify_content": null,
            "justify_items": null,
            "left": null,
            "margin": null,
            "max_height": null,
            "max_width": null,
            "min_height": null,
            "min_width": null,
            "object_fit": null,
            "object_position": null,
            "order": null,
            "overflow": null,
            "overflow_x": null,
            "overflow_y": null,
            "padding": null,
            "right": null,
            "top": null,
            "visibility": null,
            "width": null
          }
        },
        "305d833e57dd4a11bc76d1bd8269b2dc": {
          "model_module": "@jupyter-widgets/base",
          "model_name": "LayoutModel",
          "model_module_version": "1.2.0",
          "state": {
            "_model_module": "@jupyter-widgets/base",
            "_model_module_version": "1.2.0",
            "_model_name": "LayoutModel",
            "_view_count": null,
            "_view_module": "@jupyter-widgets/base",
            "_view_module_version": "1.2.0",
            "_view_name": "LayoutView",
            "align_content": null,
            "align_items": null,
            "align_self": null,
            "border": null,
            "bottom": null,
            "display": null,
            "flex": null,
            "flex_flow": null,
            "grid_area": null,
            "grid_auto_columns": null,
            "grid_auto_flow": null,
            "grid_auto_rows": null,
            "grid_column": null,
            "grid_gap": null,
            "grid_row": null,
            "grid_template_areas": null,
            "grid_template_columns": null,
            "grid_template_rows": null,
            "height": null,
            "justify_content": null,
            "justify_items": null,
            "left": null,
            "margin": null,
            "max_height": null,
            "max_width": null,
            "min_height": null,
            "min_width": null,
            "object_fit": null,
            "object_position": null,
            "order": null,
            "overflow": null,
            "overflow_x": null,
            "overflow_y": null,
            "padding": null,
            "right": null,
            "top": null,
            "visibility": null,
            "width": null
          }
        },
        "337293b6025f407aa9d2a45b670999be": {
          "model_module": "@jupyter-widgets/controls",
          "model_name": "DescriptionStyleModel",
          "model_module_version": "1.5.0",
          "state": {
            "_model_module": "@jupyter-widgets/controls",
            "_model_module_version": "1.5.0",
            "_model_name": "DescriptionStyleModel",
            "_view_count": null,
            "_view_module": "@jupyter-widgets/base",
            "_view_module_version": "1.2.0",
            "_view_name": "StyleView",
            "description_width": ""
          }
        },
        "73f58fdce4b44c5db2076d5fa7fd4842": {
          "model_module": "@jupyter-widgets/base",
          "model_name": "LayoutModel",
          "model_module_version": "1.2.0",
          "state": {
            "_model_module": "@jupyter-widgets/base",
            "_model_module_version": "1.2.0",
            "_model_name": "LayoutModel",
            "_view_count": null,
            "_view_module": "@jupyter-widgets/base",
            "_view_module_version": "1.2.0",
            "_view_name": "LayoutView",
            "align_content": null,
            "align_items": null,
            "align_self": null,
            "border": null,
            "bottom": null,
            "display": null,
            "flex": null,
            "flex_flow": null,
            "grid_area": null,
            "grid_auto_columns": null,
            "grid_auto_flow": null,
            "grid_auto_rows": null,
            "grid_column": null,
            "grid_gap": null,
            "grid_row": null,
            "grid_template_areas": null,
            "grid_template_columns": null,
            "grid_template_rows": null,
            "height": null,
            "justify_content": null,
            "justify_items": null,
            "left": null,
            "margin": null,
            "max_height": null,
            "max_width": null,
            "min_height": null,
            "min_width": null,
            "object_fit": null,
            "object_position": null,
            "order": null,
            "overflow": null,
            "overflow_x": null,
            "overflow_y": null,
            "padding": null,
            "right": null,
            "top": null,
            "visibility": null,
            "width": null
          }
        },
        "a7cf101260ba4dcca9168745ac0960b6": {
          "model_module": "@jupyter-widgets/controls",
          "model_name": "ProgressStyleModel",
          "model_module_version": "1.5.0",
          "state": {
            "_model_module": "@jupyter-widgets/controls",
            "_model_module_version": "1.5.0",
            "_model_name": "ProgressStyleModel",
            "_view_count": null,
            "_view_module": "@jupyter-widgets/base",
            "_view_module_version": "1.2.0",
            "_view_name": "StyleView",
            "bar_color": null,
            "description_width": ""
          }
        },
        "59e6fc96cbc74afa879f8f729fbcabf1": {
          "model_module": "@jupyter-widgets/base",
          "model_name": "LayoutModel",
          "model_module_version": "1.2.0",
          "state": {
            "_model_module": "@jupyter-widgets/base",
            "_model_module_version": "1.2.0",
            "_model_name": "LayoutModel",
            "_view_count": null,
            "_view_module": "@jupyter-widgets/base",
            "_view_module_version": "1.2.0",
            "_view_name": "LayoutView",
            "align_content": null,
            "align_items": null,
            "align_self": null,
            "border": null,
            "bottom": null,
            "display": null,
            "flex": null,
            "flex_flow": null,
            "grid_area": null,
            "grid_auto_columns": null,
            "grid_auto_flow": null,
            "grid_auto_rows": null,
            "grid_column": null,
            "grid_gap": null,
            "grid_row": null,
            "grid_template_areas": null,
            "grid_template_columns": null,
            "grid_template_rows": null,
            "height": null,
            "justify_content": null,
            "justify_items": null,
            "left": null,
            "margin": null,
            "max_height": null,
            "max_width": null,
            "min_height": null,
            "min_width": null,
            "object_fit": null,
            "object_position": null,
            "order": null,
            "overflow": null,
            "overflow_x": null,
            "overflow_y": null,
            "padding": null,
            "right": null,
            "top": null,
            "visibility": null,
            "width": null
          }
        },
        "e768a5762d5a4d8f83f31e674dd5589c": {
          "model_module": "@jupyter-widgets/controls",
          "model_name": "DescriptionStyleModel",
          "model_module_version": "1.5.0",
          "state": {
            "_model_module": "@jupyter-widgets/controls",
            "_model_module_version": "1.5.0",
            "_model_name": "DescriptionStyleModel",
            "_view_count": null,
            "_view_module": "@jupyter-widgets/base",
            "_view_module_version": "1.2.0",
            "_view_name": "StyleView",
            "description_width": ""
          }
        },
        "95054cb21aee44c5b3516aefea4dc78f": {
          "model_module": "@jupyter-widgets/controls",
          "model_name": "HBoxModel",
          "model_module_version": "1.5.0",
          "state": {
            "_dom_classes": [],
            "_model_module": "@jupyter-widgets/controls",
            "_model_module_version": "1.5.0",
            "_model_name": "HBoxModel",
            "_view_count": null,
            "_view_module": "@jupyter-widgets/controls",
            "_view_module_version": "1.5.0",
            "_view_name": "HBoxView",
            "box_style": "",
            "children": [
              "IPY_MODEL_ea37becfc49d4e5ba9b1318f07ba210a",
              "IPY_MODEL_b8a2e14fbd1f487bb2181c6f83c9677b",
              "IPY_MODEL_4014b4188c6c4ecdbcdb5f98ea718ea1"
            ],
            "layout": "IPY_MODEL_706174f46c464f67afb3efa0174c7b61"
          }
        },
        "ea37becfc49d4e5ba9b1318f07ba210a": {
          "model_module": "@jupyter-widgets/controls",
          "model_name": "HTMLModel",
          "model_module_version": "1.5.0",
          "state": {
            "_dom_classes": [],
            "_model_module": "@jupyter-widgets/controls",
            "_model_module_version": "1.5.0",
            "_model_name": "HTMLModel",
            "_view_count": null,
            "_view_module": "@jupyter-widgets/controls",
            "_view_module_version": "1.5.0",
            "_view_name": "HTMLView",
            "description": "",
            "description_tooltip": null,
            "layout": "IPY_MODEL_cbdfa654000941be8b495de116bb81f4",
            "placeholder": "​",
            "style": "IPY_MODEL_05a64553d62240e59512037313f1f60b",
            "value": "100%"
          }
        },
        "b8a2e14fbd1f487bb2181c6f83c9677b": {
          "model_module": "@jupyter-widgets/controls",
          "model_name": "FloatProgressModel",
          "model_module_version": "1.5.0",
          "state": {
            "_dom_classes": [],
            "_model_module": "@jupyter-widgets/controls",
            "_model_module_version": "1.5.0",
            "_model_name": "FloatProgressModel",
            "_view_count": null,
            "_view_module": "@jupyter-widgets/controls",
            "_view_module_version": "1.5.0",
            "_view_name": "ProgressView",
            "bar_style": "success",
            "description": "",
            "description_tooltip": null,
            "layout": "IPY_MODEL_9549bc2b0bf64dac8611bf362a7f0904",
            "max": 25,
            "min": 0,
            "orientation": "horizontal",
            "style": "IPY_MODEL_57a32039eb33425b80d767399fa63d13",
            "value": 25
          }
        },
        "4014b4188c6c4ecdbcdb5f98ea718ea1": {
          "model_module": "@jupyter-widgets/controls",
          "model_name": "HTMLModel",
          "model_module_version": "1.5.0",
          "state": {
            "_dom_classes": [],
            "_model_module": "@jupyter-widgets/controls",
            "_model_module_version": "1.5.0",
            "_model_name": "HTMLModel",
            "_view_count": null,
            "_view_module": "@jupyter-widgets/controls",
            "_view_module_version": "1.5.0",
            "_view_name": "HTMLView",
            "description": "",
            "description_tooltip": null,
            "layout": "IPY_MODEL_79ff065849d3489ba25b3e7c4ea309f3",
            "placeholder": "​",
            "style": "IPY_MODEL_d1ccf757ced94fb6a20e2fe5452aa1dd",
            "value": " 25/25 [01:02&lt;00:00,  2.57s/it]"
          }
        },
        "706174f46c464f67afb3efa0174c7b61": {
          "model_module": "@jupyter-widgets/base",
          "model_name": "LayoutModel",
          "model_module_version": "1.2.0",
          "state": {
            "_model_module": "@jupyter-widgets/base",
            "_model_module_version": "1.2.0",
            "_model_name": "LayoutModel",
            "_view_count": null,
            "_view_module": "@jupyter-widgets/base",
            "_view_module_version": "1.2.0",
            "_view_name": "LayoutView",
            "align_content": null,
            "align_items": null,
            "align_self": null,
            "border": null,
            "bottom": null,
            "display": null,
            "flex": null,
            "flex_flow": null,
            "grid_area": null,
            "grid_auto_columns": null,
            "grid_auto_flow": null,
            "grid_auto_rows": null,
            "grid_column": null,
            "grid_gap": null,
            "grid_row": null,
            "grid_template_areas": null,
            "grid_template_columns": null,
            "grid_template_rows": null,
            "height": null,
            "justify_content": null,
            "justify_items": null,
            "left": null,
            "margin": null,
            "max_height": null,
            "max_width": null,
            "min_height": null,
            "min_width": null,
            "object_fit": null,
            "object_position": null,
            "order": null,
            "overflow": null,
            "overflow_x": null,
            "overflow_y": null,
            "padding": null,
            "right": null,
            "top": null,
            "visibility": null,
            "width": null
          }
        },
        "cbdfa654000941be8b495de116bb81f4": {
          "model_module": "@jupyter-widgets/base",
          "model_name": "LayoutModel",
          "model_module_version": "1.2.0",
          "state": {
            "_model_module": "@jupyter-widgets/base",
            "_model_module_version": "1.2.0",
            "_model_name": "LayoutModel",
            "_view_count": null,
            "_view_module": "@jupyter-widgets/base",
            "_view_module_version": "1.2.0",
            "_view_name": "LayoutView",
            "align_content": null,
            "align_items": null,
            "align_self": null,
            "border": null,
            "bottom": null,
            "display": null,
            "flex": null,
            "flex_flow": null,
            "grid_area": null,
            "grid_auto_columns": null,
            "grid_auto_flow": null,
            "grid_auto_rows": null,
            "grid_column": null,
            "grid_gap": null,
            "grid_row": null,
            "grid_template_areas": null,
            "grid_template_columns": null,
            "grid_template_rows": null,
            "height": null,
            "justify_content": null,
            "justify_items": null,
            "left": null,
            "margin": null,
            "max_height": null,
            "max_width": null,
            "min_height": null,
            "min_width": null,
            "object_fit": null,
            "object_position": null,
            "order": null,
            "overflow": null,
            "overflow_x": null,
            "overflow_y": null,
            "padding": null,
            "right": null,
            "top": null,
            "visibility": null,
            "width": null
          }
        },
        "05a64553d62240e59512037313f1f60b": {
          "model_module": "@jupyter-widgets/controls",
          "model_name": "DescriptionStyleModel",
          "model_module_version": "1.5.0",
          "state": {
            "_model_module": "@jupyter-widgets/controls",
            "_model_module_version": "1.5.0",
            "_model_name": "DescriptionStyleModel",
            "_view_count": null,
            "_view_module": "@jupyter-widgets/base",
            "_view_module_version": "1.2.0",
            "_view_name": "StyleView",
            "description_width": ""
          }
        },
        "9549bc2b0bf64dac8611bf362a7f0904": {
          "model_module": "@jupyter-widgets/base",
          "model_name": "LayoutModel",
          "model_module_version": "1.2.0",
          "state": {
            "_model_module": "@jupyter-widgets/base",
            "_model_module_version": "1.2.0",
            "_model_name": "LayoutModel",
            "_view_count": null,
            "_view_module": "@jupyter-widgets/base",
            "_view_module_version": "1.2.0",
            "_view_name": "LayoutView",
            "align_content": null,
            "align_items": null,
            "align_self": null,
            "border": null,
            "bottom": null,
            "display": null,
            "flex": null,
            "flex_flow": null,
            "grid_area": null,
            "grid_auto_columns": null,
            "grid_auto_flow": null,
            "grid_auto_rows": null,
            "grid_column": null,
            "grid_gap": null,
            "grid_row": null,
            "grid_template_areas": null,
            "grid_template_columns": null,
            "grid_template_rows": null,
            "height": null,
            "justify_content": null,
            "justify_items": null,
            "left": null,
            "margin": null,
            "max_height": null,
            "max_width": null,
            "min_height": null,
            "min_width": null,
            "object_fit": null,
            "object_position": null,
            "order": null,
            "overflow": null,
            "overflow_x": null,
            "overflow_y": null,
            "padding": null,
            "right": null,
            "top": null,
            "visibility": null,
            "width": null
          }
        },
        "57a32039eb33425b80d767399fa63d13": {
          "model_module": "@jupyter-widgets/controls",
          "model_name": "ProgressStyleModel",
          "model_module_version": "1.5.0",
          "state": {
            "_model_module": "@jupyter-widgets/controls",
            "_model_module_version": "1.5.0",
            "_model_name": "ProgressStyleModel",
            "_view_count": null,
            "_view_module": "@jupyter-widgets/base",
            "_view_module_version": "1.2.0",
            "_view_name": "StyleView",
            "bar_color": null,
            "description_width": ""
          }
        },
        "79ff065849d3489ba25b3e7c4ea309f3": {
          "model_module": "@jupyter-widgets/base",
          "model_name": "LayoutModel",
          "model_module_version": "1.2.0",
          "state": {
            "_model_module": "@jupyter-widgets/base",
            "_model_module_version": "1.2.0",
            "_model_name": "LayoutModel",
            "_view_count": null,
            "_view_module": "@jupyter-widgets/base",
            "_view_module_version": "1.2.0",
            "_view_name": "LayoutView",
            "align_content": null,
            "align_items": null,
            "align_self": null,
            "border": null,
            "bottom": null,
            "display": null,
            "flex": null,
            "flex_flow": null,
            "grid_area": null,
            "grid_auto_columns": null,
            "grid_auto_flow": null,
            "grid_auto_rows": null,
            "grid_column": null,
            "grid_gap": null,
            "grid_row": null,
            "grid_template_areas": null,
            "grid_template_columns": null,
            "grid_template_rows": null,
            "height": null,
            "justify_content": null,
            "justify_items": null,
            "left": null,
            "margin": null,
            "max_height": null,
            "max_width": null,
            "min_height": null,
            "min_width": null,
            "object_fit": null,
            "object_position": null,
            "order": null,
            "overflow": null,
            "overflow_x": null,
            "overflow_y": null,
            "padding": null,
            "right": null,
            "top": null,
            "visibility": null,
            "width": null
          }
        },
        "d1ccf757ced94fb6a20e2fe5452aa1dd": {
          "model_module": "@jupyter-widgets/controls",
          "model_name": "DescriptionStyleModel",
          "model_module_version": "1.5.0",
          "state": {
            "_model_module": "@jupyter-widgets/controls",
            "_model_module_version": "1.5.0",
            "_model_name": "DescriptionStyleModel",
            "_view_count": null,
            "_view_module": "@jupyter-widgets/base",
            "_view_module_version": "1.2.0",
            "_view_name": "StyleView",
            "description_width": ""
          }
        }
      }
    }
  },
  "cells": [
    {
      "cell_type": "markdown",
      "source": [
        "# Introduction\n",
        "> This notebook contains use of different pretrained models for document classification.\n",
        "\n",
        "Following models were fine-tuned under different hyperparameters and the experiment was tracked using tensorboard:\n",
        "* ResNet\n",
        "* Inception v3\n",
        "* Densenet\n",
        "* VGG11_bn\n",
        "* Squeezenet\n",
        "* Alexnet\n"
      ],
      "metadata": {
        "id": "O_mwNvweat5R"
      }
    },
    {
      "cell_type": "markdown",
      "source": [
        "# Setting up working directory"
      ],
      "metadata": {
        "id": "oKmtt7BnbwE4"
      }
    },
    {
      "cell_type": "code",
      "execution_count": null,
      "metadata": {
        "colab": {
          "base_uri": "https://localhost:8080/"
        },
        "id": "N-rURj4EIZCh",
        "outputId": "5e436d42-a003-4adf-f173-7d3b173d5a59"
      },
      "outputs": [
        {
          "output_type": "stream",
          "name": "stdout",
          "text": [
            "/content/drive/MyDrive/DocumentUpskilling\n"
          ]
        }
      ],
      "source": [
        "%cd /content/drive/MyDrive/DocumentUpskilling"
      ]
    },
    {
      "cell_type": "markdown",
      "source": [
        "# Installing necessary dependencies"
      ],
      "metadata": {
        "id": "cMfS6xKTb1Sl"
      }
    },
    {
      "cell_type": "code",
      "source": [
        "!pip install torchinfo"
      ],
      "metadata": {
        "colab": {
          "base_uri": "https://localhost:8080/"
        },
        "id": "lLYszJY2Ii6W",
        "outputId": "d418d2c2-1f56-4321-992f-3d0d020a52fc"
      },
      "execution_count": null,
      "outputs": [
        {
          "output_type": "stream",
          "name": "stdout",
          "text": [
            "Collecting torchinfo\n",
            "  Downloading torchinfo-1.8.0-py3-none-any.whl (23 kB)\n",
            "Installing collected packages: torchinfo\n",
            "Successfully installed torchinfo-1.8.0\n"
          ]
        }
      ]
    },
    {
      "cell_type": "markdown",
      "source": [
        "# Importing Libraries"
      ],
      "metadata": {
        "id": "tCY2lGsLIpF6"
      }
    },
    {
      "cell_type": "code",
      "source": [
        "import matplotlib.pyplot as plt\n",
        "import torch\n",
        "import torchvision\n",
        "\n",
        "from torch import nn\n",
        "from torchvision import transforms\n",
        "from torchinfo import summary\n",
        "from document_classification import data_setup, engine"
      ],
      "metadata": {
        "id": "H_im4gHSIqnL"
      },
      "execution_count": null,
      "outputs": []
    },
    {
      "cell_type": "code",
      "source": [
        "# Setup device agnostic code\n",
        "device = \"cuda\" if torch.cuda.is_available() else \"cpu\"\n",
        "device"
      ],
      "metadata": {
        "colab": {
          "base_uri": "https://localhost:8080/",
          "height": 35
        },
        "id": "nn9GzR0NIs1k",
        "outputId": "fcd18649-8cd2-47ad-efcc-94fb876d42d5"
      },
      "execution_count": null,
      "outputs": [
        {
          "output_type": "execute_result",
          "data": {
            "text/plain": [
              "'cuda'"
            ],
            "application/vnd.google.colaboratory.intrinsic+json": {
              "type": "string"
            }
          },
          "metadata": {},
          "execution_count": 5
        }
      ]
    },
    {
      "cell_type": "code",
      "source": [
        "from pathlib import Path"
      ],
      "metadata": {
        "id": "kPOy1mH5Iu1z"
      },
      "execution_count": null,
      "outputs": []
    },
    {
      "cell_type": "code",
      "source": [
        "DATA_DIR = \"/content/drive/MyDrive/DocumentUpskilling/dataset/documents\"\n",
        "data_path = Path(DATA_DIR)\n",
        "train_dir = data_path / \"train\"\n",
        "test_dir = data_path / \"test\"\n",
        "\n",
        "train_dir, test_dir"
      ],
      "metadata": {
        "colab": {
          "base_uri": "https://localhost:8080/"
        },
        "id": "cb1Fgn7JKOgR",
        "outputId": "673ef0ac-1a96-416f-880e-7d0e3294dadd"
      },
      "execution_count": null,
      "outputs": [
        {
          "output_type": "execute_result",
          "data": {
            "text/plain": [
              "(PosixPath('/content/drive/MyDrive/DocumentUpskilling/dataset/documents/train'),\n",
              " PosixPath('/content/drive/MyDrive/DocumentUpskilling/dataset/documents/test'))"
            ]
          },
          "metadata": {},
          "execution_count": 7
        }
      ]
    },
    {
      "cell_type": "code",
      "source": [
        "# Get a set of pretrained model weights\n",
        "weights = torchvision.models.EfficientNet_B0_Weights.DEFAULT\n",
        "weights"
      ],
      "metadata": {
        "colab": {
          "base_uri": "https://localhost:8080/"
        },
        "id": "PVUmSZLiKPsS",
        "outputId": "69ba4b0e-81b9-479a-b85b-1abf3affc405"
      },
      "execution_count": null,
      "outputs": [
        {
          "output_type": "execute_result",
          "data": {
            "text/plain": [
              "EfficientNet_B0_Weights.IMAGENET1K_V1"
            ]
          },
          "metadata": {},
          "execution_count": 8
        }
      ]
    },
    {
      "cell_type": "markdown",
      "source": [
        "# Data Augmentation"
      ],
      "metadata": {
        "id": "0elBT0gZKRes"
      }
    },
    {
      "cell_type": "code",
      "source": [
        "manual_transforms = transforms.Compose([\n",
        "  transforms.Resize((224, 224)),\n",
        "  transforms.RandomRotation(75),\n",
        "  transforms.RandomHorizontalFlip(0.6),\n",
        "  transforms.RandomVerticalFlip(0.6),\n",
        "  transforms.RandomPerspective(0.4),\n",
        "  transforms.ToTensor(),\n",
        "  transforms.Normalize(mean=[0.485, 0.456, 0.406],\n",
        "               std=[0.229, 0.224, 0.225]),\n",
        "])"
      ],
      "metadata": {
        "id": "F0UkGgNmKj6X"
      },
      "execution_count": null,
      "outputs": []
    },
    {
      "cell_type": "code",
      "source": [
        "# creating train and test dataloader with data augmentation\n",
        "train_dataloader, test_dataloader, class_names = data_setup.create_dataloaders(train_dir=train_dir,\n",
        "                                                                              test_dir=test_dir,\n",
        "                                                                               transform=manual_transforms,\n",
        "                                                                               batch_size=4)\n",
        "train_dataloader, test_dataloader, class_names"
      ],
      "metadata": {
        "colab": {
          "base_uri": "https://localhost:8080/"
        },
        "id": "Ccwev_rtLQ6z",
        "outputId": "5103a0db-6cf7-4754-a929-c4b3b7b64eba"
      },
      "execution_count": null,
      "outputs": [
        {
          "output_type": "execute_result",
          "data": {
            "text/plain": [
              "(<torch.utils.data.dataloader.DataLoader at 0x7b61c4d66bc0>,\n",
              " <torch.utils.data.dataloader.DataLoader at 0x7b61a442b370>,\n",
              " ['citizenship', 'license', 'others', 'passport'])"
            ]
          },
          "metadata": {},
          "execution_count": 51
        }
      ]
    },
    {
      "cell_type": "markdown",
      "source": [
        "# Pre-trained Models"
      ],
      "metadata": {
        "id": "Z6NKgdOsc5HT"
      }
    },
    {
      "cell_type": "markdown",
      "source": [
        "### Helper Functions"
      ],
      "metadata": {
        "id": "CkSzX59XdU-o"
      }
    },
    {
      "cell_type": "markdown",
      "source": [
        "A function to create summary writer instance for logging into tensorboard."
      ],
      "metadata": {
        "id": "1mkTegYsdJS8"
      }
    },
    {
      "cell_type": "code",
      "source": [
        "from torch.utils.tensorboard import SummaryWriter\n",
        "def create_writer(experiment_name: str,\n",
        "                  model_name: str,\n",
        "                  extra: str=None):\n",
        "  from datetime import datetime\n",
        "  import os\n",
        "\n",
        "  timestamp = datetime.now().strftime(\"%Y-%m-%d\")\n",
        "  if extra:\n",
        "    log_dir = os.path.join(\"runs\", timestamp, experiment_name, model_name, extra)\n",
        "  else:\n",
        "     log_dir = os.path.join(\"runs\", timestamp, experiment_name, model_name)\n",
        "\n",
        "  print(f\"[INFO] Created SummaryWriter, saving to: {log_dir}......\")\n",
        "  return SummaryWriter(log_dir=log_dir)"
      ],
      "metadata": {
        "id": "OMvqD0wLS6XP"
      },
      "execution_count": null,
      "outputs": []
    },
    {
      "cell_type": "markdown",
      "source": [
        "A function to create data loaders according to the model selection."
      ],
      "metadata": {
        "id": "nUQ6rHv96Xdt"
      }
    },
    {
      "cell_type": "code",
      "source": [
        "def train_test_dataloader(input_size):\n",
        "  custom_transforms = transforms.Compose([\n",
        "        transforms.RandomResizedCrop(input_size),\n",
        "        transforms.RandomHorizontalFlip(),\n",
        "        transforms.ToTensor(),\n",
        "        transforms.Normalize([0.485, 0.456, 0.406], [0.229, 0.224, 0.225])\n",
        "    ])\n",
        "  print(\"[INFO] Preparing Data Loaders\")\n",
        "  train_dataloader, test_dataloader, class_names = data_setup.create_dataloaders(train_dir=train_dir,\n",
        "                                                                              test_dir=test_dir,\n",
        "                                                                               transform=custom_transforms,\n",
        "                                                                               batch_size=4)\n",
        "  return train_dataloader, test_dataloader"
      ],
      "metadata": {
        "id": "5BmxcPIpFp0C"
      },
      "execution_count": null,
      "outputs": []
    },
    {
      "cell_type": "markdown",
      "source": [
        "Initialize different pre-trained models"
      ],
      "metadata": {
        "id": "30IXP7xbdezv"
      }
    },
    {
      "cell_type": "code",
      "source": [
        "from torchvision import models\n",
        "\n",
        "def set_parameter_requires_grad(model, feature_extracting):\n",
        "    if feature_extracting:\n",
        "        for param in model.parameters():\n",
        "            param.requires_grad = False\n",
        "\n",
        "def initialize_model(model_name, num_classes, feature_extract, use_pretrained=True):\n",
        "    # Initialize these variables which will be set in this if statement. Each of these\n",
        "    #   variables is model specific.\n",
        "    model_ft = None\n",
        "    input_size = 0\n",
        "\n",
        "    print(\"[INFO] Initializing Model\")\n",
        "\n",
        "    if model_name == \"resnet\":\n",
        "        \"\"\" Resnet18\n",
        "        \"\"\"\n",
        "        model_ft = models.resnet18(pretrained=use_pretrained)\n",
        "        set_parameter_requires_grad(model_ft, feature_extract)\n",
        "        num_ftrs = model_ft.fc.in_features\n",
        "        model_ft.fc = nn.Linear(num_ftrs, num_classes)\n",
        "        input_size = 224\n",
        "\n",
        "\n",
        "        train_dataloader, test_dataloader = train_test_dataloader(input_size)\n",
        "\n",
        "    elif model_name == \"alexnet\":\n",
        "        \"\"\" Alexnet\n",
        "        \"\"\"\n",
        "        model_ft = models.alexnet(pretrained=use_pretrained)\n",
        "        set_parameter_requires_grad(model_ft, feature_extract)\n",
        "        num_ftrs = model_ft.classifier[6].in_features\n",
        "        model_ft.classifier[6] = nn.Linear(num_ftrs,num_classes)\n",
        "        input_size = 224\n",
        "\n",
        "        train_dataloader, test_dataloader= train_test_dataloader(input_size)\n",
        "\n",
        "\n",
        "    elif model_name == \"vgg\":\n",
        "        \"\"\" VGG11_bn\n",
        "        \"\"\"\n",
        "        model_ft = models.vgg11_bn(pretrained=use_pretrained)\n",
        "        set_parameter_requires_grad(model_ft, feature_extract)\n",
        "        num_ftrs = model_ft.classifier[6].in_features\n",
        "        model_ft.classifier[6] = nn.Linear(num_ftrs,num_classes)\n",
        "        input_size = 224\n",
        "\n",
        "        train_dataloader, test_dataloader = train_test_dataloader(input_size)\n",
        "\n",
        "    elif model_name == \"squeezenet\":\n",
        "        \"\"\" Squeezenet\n",
        "        \"\"\"\n",
        "        model_ft = models.squeezenet1_0(pretrained=use_pretrained)\n",
        "        set_parameter_requires_grad(model_ft, feature_extract)\n",
        "        model_ft.classifier[1] = nn.Conv2d(512, num_classes, kernel_size=(1,1), stride=(1,1))\n",
        "        model_ft.num_classes = num_classes\n",
        "        input_size = 224\n",
        "\n",
        "        train_dataloader, test_dataloader = train_test_dataloader(input_size)\n",
        "\n",
        "    elif model_name == \"densenet\":\n",
        "        \"\"\" Densenet\n",
        "        \"\"\"\n",
        "        model_ft = models.densenet121(pretrained=use_pretrained)\n",
        "        set_parameter_requires_grad(model_ft, feature_extract)\n",
        "        num_ftrs = model_ft.classifier.in_features\n",
        "        model_ft.classifier = nn.Linear(num_ftrs, num_classes)\n",
        "        input_size = 224\n",
        "\n",
        "        train_dataloader, test_dataloader = train_test_dataloader(input_size)\n",
        "\n",
        "    elif model_name == \"inception\":\n",
        "        \"\"\" Inception v3\n",
        "        Be careful, expects (299,299) sized images and has auxiliary output\n",
        "        \"\"\"\n",
        "        model_ft = models.inception_v3(pretrained=use_pretrained)\n",
        "        set_parameter_requires_grad(model_ft, feature_extract)\n",
        "        # Handle the auxilary net\n",
        "        num_ftrs = model_ft.AuxLogits.fc.in_features\n",
        "        model_ft.AuxLogits.fc = nn.Linear(num_ftrs, num_classes)\n",
        "        # Handle the primary net\n",
        "        num_ftrs = model_ft.fc.in_features\n",
        "        model_ft.fc = nn.Linear(num_ftrs,num_classes)\n",
        "        input_size = 299\n",
        "\n",
        "        train_dataloader, test_dataloader = train_test_dataloader(input_size)\n",
        "\n",
        "    else:\n",
        "        print(\"Invalid model name, exiting...\")\n",
        "        exit()\n",
        "\n",
        "    return model_ft, input_size, train_dataloader, test_dataloader"
      ],
      "metadata": {
        "id": "6lsWace96gJm"
      },
      "execution_count": null,
      "outputs": []
    },
    {
      "cell_type": "code",
      "source": [
        "def final_train(model_name, epochs, train_dataloader, test_dataloader, optimizer, loss_fn):\n",
        "\n",
        "  torch.manual_seed(42)\n",
        "  torch.cuda.manual_seed(42)\n",
        "  # Start the timer\n",
        "  from timeit import default_timer as timer\n",
        "  start_time = timer()\n",
        "\n",
        "  # create writer\n",
        "  writer = create_writer(\"doc_classification\",model_name, f\"{epochs} epochs\")\n",
        "  # train and save the results\n",
        "  results = engine.train(model=model_name,\n",
        "                        train_dataloader=train_dataloader,\n",
        "                        test_dataloader=test_dataloader,\n",
        "                        optimizer=optimizer,\n",
        "                        loss_fn=loss_fn,\n",
        "                        epochs=epochs,\n",
        "                        writer=writer,\n",
        "                        track_experiment=True,\n",
        "                        device=device)\n",
        "\n",
        "  end_time = timer()\n",
        "  print(f\"[INFO] Total training time :{end_time-start_time:.3f} seconds\")"
      ],
      "metadata": {
        "id": "Lyd8NEIzBeGp"
      },
      "execution_count": null,
      "outputs": []
    },
    {
      "cell_type": "code",
      "source": [
        "model_list = [\"resnet\", \"alexnet\", \"vgg\", \"squeezenet\", \"inception\", \"densenet\"]"
      ],
      "metadata": {
        "id": "oI74jJIu74RQ"
      },
      "execution_count": null,
      "outputs": []
    },
    {
      "cell_type": "code",
      "source": [
        "# Initialize the model for this run\n",
        "import torch.optim as optim\n",
        "loss_fn = nn.CrossEntropyLoss()\n",
        "feature_extract = True\n",
        "for model_name in model_list:\n",
        "  model_ft, input_size, train_dataloader, test_dataloader = initialize_model(model_name=model_name, num_classes=4, feature_extract=True)\n",
        "  # Print the model we just instantiated\n",
        "  params_to_update = model_ft.parameters()\n",
        "  print(\"Params to learn:\")\n",
        "  if feature_extract:\n",
        "      params_to_update = []\n",
        "      for name,param in model_ft.named_parameters():\n",
        "          if param.requires_grad == True:\n",
        "              params_to_update.append(param)\n",
        "              print(\"\\t\",name)\n",
        "  else:\n",
        "      for name,param in model_ft.named_parameters():\n",
        "          if param.requires_grad == True:\n",
        "              print(\"\\t\",name)\n",
        "\n",
        "  optimizer_ft = optim.SGD(params_to_update, lr=0.001, momentum=0.9)\n",
        "  print(f\"Training {model_name}\")\n",
        "  print(\"-\"*10)\n",
        "  final_train(model_ft, epochs=25, train_dataloader=train_dataloader, test_dataloader=test_dataloader,optimizer=optimizer_ft, loss_fn)"
      ],
      "metadata": {
        "colab": {
          "base_uri": "https://localhost:8080/",
          "height": 1000,
          "referenced_widgets": [
            "83b934fadb9f4d4982039c36de2ee10d",
            "75ef55b712214fb2b443537ca961ce88",
            "20fecccd608f4b029137149e343323c5",
            "c085dc5a25914c75a23815499943e840",
            "db3e7cc282a7435b9f90642f5968e494",
            "0c98d524944a4ff886d588bc9f95f4ef",
            "50e423eeb23a4275abfcc725c08946b6",
            "7c4b75f714bb4a9798d6c8d8611e61ea",
            "f6798cf454f34eb380cb97c75f62579e",
            "35eb7deeefc943fdb09814256e084ca1",
            "337ed403458e49a2b5c068d9e23bdb0e",
            "d8d6e66401a74e4b88d6c6dfb94e5963",
            "4ccdb37e880c4292aa76df7b3566e5cc",
            "de1e24465c514b6a9597272c69c25b5c",
            "7696a0ca49874888bd687b733775b631",
            "5e64907130d44b408a93aa1fdbcdb237",
            "d86ec33856b54205a81a58dfa0903def",
            "7e832750b3c043d59b5e6ef25a1786bc",
            "def38230f0e84824bc8da288c371364a",
            "e0006257503542b8875391e4f3b595fe",
            "b336b1ea2cf84f46b199b40d30dce66e",
            "449afdff100b4088bd15dc616fc27bfe",
            "bb42e45dfa9d475c8d6fa80a0852dcc9",
            "e10898cd9e294d8e844b131496713cc9",
            "9aa51d1e92b1431ea704c5bb953670ba",
            "f756b587fd81458cb09e3b5144052403",
            "af58ee489b48443f960db3adda02c6ff",
            "7e0a3aebe0674be497973c9f4322ecf9",
            "f325ed7d269440f2b5c3b27e1e15f65c",
            "9b4d50658c07440ca6b0c3e7265a0fac",
            "5e6d5c4599bd4bd0a2cfa634d13d5547",
            "f85d24001c0e490bb93823e64029a44a",
            "497b90b119534be3a063142e0c646e60",
            "cb14ae778ac84d1c93611f8d1d4895bb",
            "1d342ecf999f4c0bb1c81bfa9c385e81",
            "7b139f5d38ae45fe98d3ef5bb0839aa7",
            "0a85835b79174d2aafebfc26bfcf652e",
            "0ea04e2ede4940c1891579159ae6e66b",
            "f2398bd553c9479f8dd8d29d4384a67c",
            "b9d7bb3cd0354d03b357db0e4dfbc1e5",
            "2effea40d1e64a6f9d880d997e8e1967",
            "f4b3b7be18444d3ba1d5c0fff0baa2a8",
            "a0e8033f315a4d84bb3c75ec2948873a",
            "4e3ec1b699de451eac0bc06dbc5b0d71",
            "a99cc901693541afae5ffd9c5683f5dd",
            "e8c7c5aa83ea4fb38154d324878c866a",
            "d0c168274eed4c70ae0457559b303e79",
            "dfc8dce730b44d1fa0ef9d1cbdc74246",
            "fab257fd86ea4897bc693fa119e766d9",
            "305d833e57dd4a11bc76d1bd8269b2dc",
            "337293b6025f407aa9d2a45b670999be",
            "73f58fdce4b44c5db2076d5fa7fd4842",
            "a7cf101260ba4dcca9168745ac0960b6",
            "59e6fc96cbc74afa879f8f729fbcabf1",
            "e768a5762d5a4d8f83f31e674dd5589c",
            "95054cb21aee44c5b3516aefea4dc78f",
            "ea37becfc49d4e5ba9b1318f07ba210a",
            "b8a2e14fbd1f487bb2181c6f83c9677b",
            "4014b4188c6c4ecdbcdb5f98ea718ea1",
            "706174f46c464f67afb3efa0174c7b61",
            "cbdfa654000941be8b495de116bb81f4",
            "05a64553d62240e59512037313f1f60b",
            "9549bc2b0bf64dac8611bf362a7f0904",
            "57a32039eb33425b80d767399fa63d13",
            "79ff065849d3489ba25b3e7c4ea309f3",
            "d1ccf757ced94fb6a20e2fe5452aa1dd"
          ]
        },
        "id": "tjhdQNg27zMp",
        "outputId": "c2b4bc9a-63ca-455d-a582-e7c4a03edbdc"
      },
      "execution_count": null,
      "outputs": [
        {
          "output_type": "stream",
          "name": "stdout",
          "text": [
            "[INFO] Initializing Model\n"
          ]
        },
        {
          "output_type": "stream",
          "name": "stderr",
          "text": [
            "/usr/local/lib/python3.10/dist-packages/torchvision/models/_utils.py:208: UserWarning: The parameter 'pretrained' is deprecated since 0.13 and may be removed in the future, please use 'weights' instead.\n",
            "  warnings.warn(\n",
            "/usr/local/lib/python3.10/dist-packages/torchvision/models/_utils.py:223: UserWarning: Arguments other than a weight enum or `None` for 'weights' are deprecated since 0.13 and may be removed in the future. The current behavior is equivalent to passing `weights=ResNet18_Weights.IMAGENET1K_V1`. You can also use `weights=ResNet18_Weights.DEFAULT` to get the most up-to-date weights.\n",
            "  warnings.warn(msg)\n"
          ]
        },
        {
          "output_type": "stream",
          "name": "stdout",
          "text": [
            "[INFO] Preparing Data Loaders\n",
            "Params to learn:\n",
            "\t fc.weight\n",
            "\t fc.bias\n",
            "Training resnet\n",
            "----------\n",
            "[INFO] Created SummaryWriter, saving to: runs/2024-01-16/doc_classification/resnet/25 epochs......\n"
          ]
        },
        {
          "output_type": "display_data",
          "data": {
            "text/plain": [
              "  0%|          | 0/25 [00:00<?, ?it/s]"
            ],
            "application/vnd.jupyter.widget-view+json": {
              "version_major": 2,
              "version_minor": 0,
              "model_id": "83b934fadb9f4d4982039c36de2ee10d"
            }
          },
          "metadata": {}
        },
        {
          "output_type": "stream",
          "name": "stdout",
          "text": [
            "Epoch: 1 | train_loss: 1.6616 | train_acc: 0.1167 | test_loss: 1.5312 | test_acc: 0.2500\n",
            "Epoch: 2 | train_loss: 1.5228 | train_acc: 0.2667 | test_loss: 1.5527 | test_acc: 0.1875\n",
            "Epoch: 3 | train_loss: 1.5867 | train_acc: 0.1333 | test_loss: 1.3314 | test_acc: 0.2500\n",
            "Epoch: 4 | train_loss: 1.5711 | train_acc: 0.2500 | test_loss: 1.6756 | test_acc: 0.2500\n",
            "Epoch: 5 | train_loss: 1.5817 | train_acc: 0.2333 | test_loss: 1.5746 | test_acc: 0.3125\n",
            "Epoch: 6 | train_loss: 1.6636 | train_acc: 0.1833 | test_loss: 1.5089 | test_acc: 0.2500\n",
            "Epoch: 7 | train_loss: 1.5236 | train_acc: 0.2167 | test_loss: 1.4774 | test_acc: 0.2500\n",
            "Epoch: 8 | train_loss: 1.5949 | train_acc: 0.2000 | test_loss: 1.5101 | test_acc: 0.2500\n",
            "Epoch: 9 | train_loss: 1.5724 | train_acc: 0.1833 | test_loss: 1.3985 | test_acc: 0.2500\n",
            "Epoch: 10 | train_loss: 1.5642 | train_acc: 0.2167 | test_loss: 1.4920 | test_acc: 0.3125\n",
            "Epoch: 11 | train_loss: 1.5758 | train_acc: 0.2500 | test_loss: 1.4943 | test_acc: 0.1875\n",
            "Epoch: 12 | train_loss: 1.5036 | train_acc: 0.2167 | test_loss: 1.4873 | test_acc: 0.1875\n",
            "Epoch: 13 | train_loss: 1.5025 | train_acc: 0.2667 | test_loss: 1.3887 | test_acc: 0.2500\n",
            "Epoch: 14 | train_loss: 1.6066 | train_acc: 0.1500 | test_loss: 1.4387 | test_acc: 0.2500\n",
            "Epoch: 15 | train_loss: 1.5529 | train_acc: 0.2667 | test_loss: 1.5872 | test_acc: 0.1250\n",
            "Epoch: 16 | train_loss: 1.6145 | train_acc: 0.1667 | test_loss: 1.4926 | test_acc: 0.3125\n",
            "Epoch: 17 | train_loss: 1.5420 | train_acc: 0.2333 | test_loss: 1.5332 | test_acc: 0.3125\n",
            "Epoch: 18 | train_loss: 1.6268 | train_acc: 0.2000 | test_loss: 1.5287 | test_acc: 0.1250\n",
            "Epoch: 19 | train_loss: 1.4642 | train_acc: 0.2667 | test_loss: 1.5170 | test_acc: 0.2500\n",
            "Epoch: 20 | train_loss: 1.5885 | train_acc: 0.2333 | test_loss: 1.4696 | test_acc: 0.2500\n",
            "Epoch: 21 | train_loss: 1.5634 | train_acc: 0.2000 | test_loss: 1.5869 | test_acc: 0.1875\n",
            "Epoch: 22 | train_loss: 1.4861 | train_acc: 0.2000 | test_loss: 1.4903 | test_acc: 0.2500\n",
            "Epoch: 23 | train_loss: 1.6148 | train_acc: 0.1667 | test_loss: 1.4370 | test_acc: 0.2500\n",
            "Epoch: 24 | train_loss: 1.5347 | train_acc: 0.1667 | test_loss: 1.4710 | test_acc: 0.1875\n",
            "Epoch: 25 | train_loss: 1.5745 | train_acc: 0.2167 | test_loss: 1.6030 | test_acc: 0.2500\n",
            "[INFO] Total training time :61.877 seconds\n",
            "[INFO] Initializing Model\n"
          ]
        },
        {
          "output_type": "stream",
          "name": "stderr",
          "text": [
            "/usr/local/lib/python3.10/dist-packages/torchvision/models/_utils.py:223: UserWarning: Arguments other than a weight enum or `None` for 'weights' are deprecated since 0.13 and may be removed in the future. The current behavior is equivalent to passing `weights=AlexNet_Weights.IMAGENET1K_V1`. You can also use `weights=AlexNet_Weights.DEFAULT` to get the most up-to-date weights.\n",
            "  warnings.warn(msg)\n"
          ]
        },
        {
          "output_type": "stream",
          "name": "stdout",
          "text": [
            "[INFO] Preparing Data Loaders\n",
            "Params to learn:\n",
            "\t classifier.6.weight\n",
            "\t classifier.6.bias\n",
            "Training alexnet\n",
            "----------\n",
            "[INFO] Created SummaryWriter, saving to: runs/2024-01-16/doc_classification/alexnet/25 epochs......\n"
          ]
        },
        {
          "output_type": "display_data",
          "data": {
            "text/plain": [
              "  0%|          | 0/25 [00:00<?, ?it/s]"
            ],
            "application/vnd.jupyter.widget-view+json": {
              "version_major": 2,
              "version_minor": 0,
              "model_id": "d8d6e66401a74e4b88d6c6dfb94e5963"
            }
          },
          "metadata": {}
        },
        {
          "output_type": "stream",
          "name": "stdout",
          "text": [
            "Epoch: 1 | train_loss: 1.6616 | train_acc: 0.1167 | test_loss: 1.5312 | test_acc: 0.2500\n",
            "Epoch: 2 | train_loss: 1.5228 | train_acc: 0.2667 | test_loss: 1.5527 | test_acc: 0.1875\n",
            "Epoch: 3 | train_loss: 1.5867 | train_acc: 0.1333 | test_loss: 1.3314 | test_acc: 0.2500\n",
            "Epoch: 4 | train_loss: 1.5711 | train_acc: 0.2500 | test_loss: 1.6756 | test_acc: 0.2500\n",
            "Epoch: 5 | train_loss: 1.5817 | train_acc: 0.2333 | test_loss: 1.5746 | test_acc: 0.3125\n",
            "Epoch: 6 | train_loss: 1.6636 | train_acc: 0.1833 | test_loss: 1.5089 | test_acc: 0.2500\n",
            "Epoch: 7 | train_loss: 1.5236 | train_acc: 0.2167 | test_loss: 1.4774 | test_acc: 0.2500\n",
            "Epoch: 8 | train_loss: 1.5949 | train_acc: 0.2000 | test_loss: 1.5101 | test_acc: 0.2500\n",
            "Epoch: 9 | train_loss: 1.5724 | train_acc: 0.1833 | test_loss: 1.3985 | test_acc: 0.2500\n",
            "Epoch: 10 | train_loss: 1.5642 | train_acc: 0.2167 | test_loss: 1.4920 | test_acc: 0.3125\n",
            "Epoch: 11 | train_loss: 1.5758 | train_acc: 0.2500 | test_loss: 1.4943 | test_acc: 0.1875\n",
            "Epoch: 12 | train_loss: 1.5036 | train_acc: 0.2167 | test_loss: 1.4873 | test_acc: 0.1875\n",
            "Epoch: 13 | train_loss: 1.5025 | train_acc: 0.2667 | test_loss: 1.3887 | test_acc: 0.2500\n",
            "Epoch: 14 | train_loss: 1.6066 | train_acc: 0.1500 | test_loss: 1.4387 | test_acc: 0.2500\n",
            "Epoch: 15 | train_loss: 1.5529 | train_acc: 0.2667 | test_loss: 1.5872 | test_acc: 0.1250\n",
            "Epoch: 16 | train_loss: 1.6145 | train_acc: 0.1667 | test_loss: 1.4926 | test_acc: 0.3125\n",
            "Epoch: 17 | train_loss: 1.5420 | train_acc: 0.2333 | test_loss: 1.5332 | test_acc: 0.3125\n",
            "Epoch: 18 | train_loss: 1.6268 | train_acc: 0.2000 | test_loss: 1.5287 | test_acc: 0.1250\n",
            "Epoch: 19 | train_loss: 1.4642 | train_acc: 0.2667 | test_loss: 1.5170 | test_acc: 0.2500\n",
            "Epoch: 20 | train_loss: 1.5885 | train_acc: 0.2333 | test_loss: 1.4696 | test_acc: 0.2500\n",
            "Epoch: 21 | train_loss: 1.5634 | train_acc: 0.2000 | test_loss: 1.5869 | test_acc: 0.1875\n",
            "Epoch: 22 | train_loss: 1.4861 | train_acc: 0.2000 | test_loss: 1.4903 | test_acc: 0.2500\n",
            "Epoch: 23 | train_loss: 1.6148 | train_acc: 0.1667 | test_loss: 1.4370 | test_acc: 0.2500\n",
            "Epoch: 24 | train_loss: 1.5347 | train_acc: 0.1667 | test_loss: 1.4710 | test_acc: 0.1875\n",
            "Epoch: 25 | train_loss: 1.5745 | train_acc: 0.2167 | test_loss: 1.6030 | test_acc: 0.2500\n",
            "[INFO] Total training time :57.991 seconds\n",
            "[INFO] Initializing Model\n"
          ]
        },
        {
          "output_type": "stream",
          "name": "stderr",
          "text": [
            "/usr/local/lib/python3.10/dist-packages/torchvision/models/_utils.py:223: UserWarning: Arguments other than a weight enum or `None` for 'weights' are deprecated since 0.13 and may be removed in the future. The current behavior is equivalent to passing `weights=VGG11_BN_Weights.IMAGENET1K_V1`. You can also use `weights=VGG11_BN_Weights.DEFAULT` to get the most up-to-date weights.\n",
            "  warnings.warn(msg)\n"
          ]
        },
        {
          "output_type": "stream",
          "name": "stdout",
          "text": [
            "[INFO] Preparing Data Loaders\n",
            "Params to learn:\n",
            "\t classifier.6.weight\n",
            "\t classifier.6.bias\n",
            "Training vgg\n",
            "----------\n",
            "[INFO] Created SummaryWriter, saving to: runs/2024-01-16/doc_classification/vgg/25 epochs......\n"
          ]
        },
        {
          "output_type": "display_data",
          "data": {
            "text/plain": [
              "  0%|          | 0/25 [00:00<?, ?it/s]"
            ],
            "application/vnd.jupyter.widget-view+json": {
              "version_major": 2,
              "version_minor": 0,
              "model_id": "bb42e45dfa9d475c8d6fa80a0852dcc9"
            }
          },
          "metadata": {}
        },
        {
          "output_type": "stream",
          "name": "stdout",
          "text": [
            "Epoch: 1 | train_loss: 1.6616 | train_acc: 0.1167 | test_loss: 1.5312 | test_acc: 0.2500\n",
            "Epoch: 2 | train_loss: 1.5228 | train_acc: 0.2667 | test_loss: 1.5527 | test_acc: 0.1875\n",
            "Epoch: 3 | train_loss: 1.5867 | train_acc: 0.1333 | test_loss: 1.3314 | test_acc: 0.2500\n",
            "Epoch: 4 | train_loss: 1.5711 | train_acc: 0.2500 | test_loss: 1.6756 | test_acc: 0.2500\n",
            "Epoch: 5 | train_loss: 1.5817 | train_acc: 0.2333 | test_loss: 1.5746 | test_acc: 0.3125\n",
            "Epoch: 6 | train_loss: 1.6636 | train_acc: 0.1833 | test_loss: 1.5089 | test_acc: 0.2500\n",
            "Epoch: 7 | train_loss: 1.5236 | train_acc: 0.2167 | test_loss: 1.4774 | test_acc: 0.2500\n",
            "Epoch: 8 | train_loss: 1.5949 | train_acc: 0.2000 | test_loss: 1.5101 | test_acc: 0.2500\n",
            "Epoch: 9 | train_loss: 1.5724 | train_acc: 0.1833 | test_loss: 1.3985 | test_acc: 0.2500\n",
            "Epoch: 10 | train_loss: 1.5642 | train_acc: 0.2167 | test_loss: 1.4920 | test_acc: 0.3125\n",
            "Epoch: 11 | train_loss: 1.5758 | train_acc: 0.2500 | test_loss: 1.4943 | test_acc: 0.1875\n",
            "Epoch: 12 | train_loss: 1.5036 | train_acc: 0.2167 | test_loss: 1.4873 | test_acc: 0.1875\n",
            "Epoch: 13 | train_loss: 1.5025 | train_acc: 0.2667 | test_loss: 1.3887 | test_acc: 0.2500\n",
            "Epoch: 14 | train_loss: 1.6066 | train_acc: 0.1500 | test_loss: 1.4387 | test_acc: 0.2500\n",
            "Epoch: 15 | train_loss: 1.5529 | train_acc: 0.2667 | test_loss: 1.5872 | test_acc: 0.1250\n",
            "Epoch: 16 | train_loss: 1.6145 | train_acc: 0.1667 | test_loss: 1.4926 | test_acc: 0.3125\n",
            "Epoch: 17 | train_loss: 1.5420 | train_acc: 0.2333 | test_loss: 1.5332 | test_acc: 0.3125\n",
            "Epoch: 18 | train_loss: 1.6268 | train_acc: 0.2000 | test_loss: 1.5287 | test_acc: 0.1250\n",
            "Epoch: 19 | train_loss: 1.4642 | train_acc: 0.2667 | test_loss: 1.5170 | test_acc: 0.2500\n",
            "Epoch: 20 | train_loss: 1.5885 | train_acc: 0.2333 | test_loss: 1.4696 | test_acc: 0.2500\n",
            "Epoch: 21 | train_loss: 1.5634 | train_acc: 0.2000 | test_loss: 1.5869 | test_acc: 0.1875\n",
            "Epoch: 22 | train_loss: 1.4861 | train_acc: 0.2000 | test_loss: 1.4903 | test_acc: 0.2500\n",
            "Epoch: 23 | train_loss: 1.6148 | train_acc: 0.1667 | test_loss: 1.4370 | test_acc: 0.2500\n",
            "Epoch: 24 | train_loss: 1.5347 | train_acc: 0.1667 | test_loss: 1.4710 | test_acc: 0.1875\n",
            "Epoch: 25 | train_loss: 1.5745 | train_acc: 0.2167 | test_loss: 1.6030 | test_acc: 0.2500\n",
            "[INFO] Total training time :62.365 seconds\n",
            "[INFO] Initializing Model\n",
            "[INFO] Preparing Data Loaders\n",
            "Params to learn:\n",
            "\t classifier.1.weight\n",
            "\t classifier.1.bias\n",
            "Training squeezenet\n",
            "----------\n",
            "[INFO] Created SummaryWriter, saving to: runs/2024-01-16/doc_classification/squeezenet/25 epochs......\n"
          ]
        },
        {
          "output_type": "stream",
          "name": "stderr",
          "text": [
            "/usr/local/lib/python3.10/dist-packages/torchvision/models/_utils.py:223: UserWarning: Arguments other than a weight enum or `None` for 'weights' are deprecated since 0.13 and may be removed in the future. The current behavior is equivalent to passing `weights=SqueezeNet1_0_Weights.IMAGENET1K_V1`. You can also use `weights=SqueezeNet1_0_Weights.DEFAULT` to get the most up-to-date weights.\n",
            "  warnings.warn(msg)\n"
          ]
        },
        {
          "output_type": "display_data",
          "data": {
            "text/plain": [
              "  0%|          | 0/25 [00:00<?, ?it/s]"
            ],
            "application/vnd.jupyter.widget-view+json": {
              "version_major": 2,
              "version_minor": 0,
              "model_id": "cb14ae778ac84d1c93611f8d1d4895bb"
            }
          },
          "metadata": {}
        },
        {
          "output_type": "stream",
          "name": "stdout",
          "text": [
            "Epoch: 1 | train_loss: 1.6616 | train_acc: 0.1167 | test_loss: 1.5312 | test_acc: 0.2500\n",
            "Epoch: 2 | train_loss: 1.5228 | train_acc: 0.2667 | test_loss: 1.5527 | test_acc: 0.1875\n",
            "Epoch: 3 | train_loss: 1.5867 | train_acc: 0.1333 | test_loss: 1.3314 | test_acc: 0.2500\n",
            "Epoch: 4 | train_loss: 1.5711 | train_acc: 0.2500 | test_loss: 1.6756 | test_acc: 0.2500\n",
            "Epoch: 5 | train_loss: 1.5817 | train_acc: 0.2333 | test_loss: 1.5746 | test_acc: 0.3125\n",
            "Epoch: 6 | train_loss: 1.6636 | train_acc: 0.1833 | test_loss: 1.5089 | test_acc: 0.2500\n",
            "Epoch: 7 | train_loss: 1.5236 | train_acc: 0.2167 | test_loss: 1.4774 | test_acc: 0.2500\n",
            "Epoch: 8 | train_loss: 1.5949 | train_acc: 0.2000 | test_loss: 1.5101 | test_acc: 0.2500\n",
            "Epoch: 9 | train_loss: 1.5724 | train_acc: 0.1833 | test_loss: 1.3985 | test_acc: 0.2500\n",
            "Epoch: 10 | train_loss: 1.5642 | train_acc: 0.2167 | test_loss: 1.4920 | test_acc: 0.3125\n",
            "Epoch: 11 | train_loss: 1.5758 | train_acc: 0.2500 | test_loss: 1.4943 | test_acc: 0.1875\n",
            "Epoch: 12 | train_loss: 1.5036 | train_acc: 0.2167 | test_loss: 1.4873 | test_acc: 0.1875\n",
            "Epoch: 13 | train_loss: 1.5025 | train_acc: 0.2667 | test_loss: 1.3887 | test_acc: 0.2500\n",
            "Epoch: 14 | train_loss: 1.6066 | train_acc: 0.1500 | test_loss: 1.4387 | test_acc: 0.2500\n",
            "Epoch: 15 | train_loss: 1.5529 | train_acc: 0.2667 | test_loss: 1.5872 | test_acc: 0.1250\n",
            "Epoch: 16 | train_loss: 1.6145 | train_acc: 0.1667 | test_loss: 1.4926 | test_acc: 0.3125\n",
            "Epoch: 17 | train_loss: 1.5420 | train_acc: 0.2333 | test_loss: 1.5332 | test_acc: 0.3125\n",
            "Epoch: 18 | train_loss: 1.6268 | train_acc: 0.2000 | test_loss: 1.5287 | test_acc: 0.1250\n",
            "Epoch: 19 | train_loss: 1.4642 | train_acc: 0.2667 | test_loss: 1.5170 | test_acc: 0.2500\n",
            "Epoch: 20 | train_loss: 1.5885 | train_acc: 0.2333 | test_loss: 1.4696 | test_acc: 0.2500\n",
            "Epoch: 21 | train_loss: 1.5634 | train_acc: 0.2000 | test_loss: 1.5869 | test_acc: 0.1875\n",
            "Epoch: 22 | train_loss: 1.4861 | train_acc: 0.2000 | test_loss: 1.4903 | test_acc: 0.2500\n",
            "Epoch: 23 | train_loss: 1.6148 | train_acc: 0.1667 | test_loss: 1.4370 | test_acc: 0.2500\n",
            "Epoch: 24 | train_loss: 1.5347 | train_acc: 0.1667 | test_loss: 1.4710 | test_acc: 0.1875\n",
            "Epoch: 25 | train_loss: 1.5745 | train_acc: 0.2167 | test_loss: 1.6030 | test_acc: 0.2500\n",
            "[INFO] Total training time :59.450 seconds\n",
            "[INFO] Initializing Model\n"
          ]
        },
        {
          "output_type": "stream",
          "name": "stderr",
          "text": [
            "/usr/local/lib/python3.10/dist-packages/torchvision/models/_utils.py:223: UserWarning: Arguments other than a weight enum or `None` for 'weights' are deprecated since 0.13 and may be removed in the future. The current behavior is equivalent to passing `weights=Inception_V3_Weights.IMAGENET1K_V1`. You can also use `weights=Inception_V3_Weights.DEFAULT` to get the most up-to-date weights.\n",
            "  warnings.warn(msg)\n"
          ]
        },
        {
          "output_type": "stream",
          "name": "stdout",
          "text": [
            "[INFO] Preparing Data Loaders\n",
            "Params to learn:\n",
            "\t AuxLogits.fc.weight\n",
            "\t AuxLogits.fc.bias\n",
            "\t fc.weight\n",
            "\t fc.bias\n",
            "Training inception\n",
            "----------\n",
            "[INFO] Created SummaryWriter, saving to: runs/2024-01-16/doc_classification/inception/25 epochs......\n"
          ]
        },
        {
          "output_type": "display_data",
          "data": {
            "text/plain": [
              "  0%|          | 0/25 [00:00<?, ?it/s]"
            ],
            "application/vnd.jupyter.widget-view+json": {
              "version_major": 2,
              "version_minor": 0,
              "model_id": "a99cc901693541afae5ffd9c5683f5dd"
            }
          },
          "metadata": {}
        },
        {
          "output_type": "stream",
          "name": "stdout",
          "text": [
            "Epoch: 1 | train_loss: 1.5148 | train_acc: 0.1667 | test_loss: 1.4400 | test_acc: 0.1875\n",
            "Epoch: 2 | train_loss: 1.4638 | train_acc: 0.1833 | test_loss: 1.4599 | test_acc: 0.1875\n",
            "Epoch: 3 | train_loss: 1.4647 | train_acc: 0.2167 | test_loss: 1.4160 | test_acc: 0.1875\n",
            "Epoch: 4 | train_loss: 1.4464 | train_acc: 0.2500 | test_loss: 1.4949 | test_acc: 0.2500\n",
            "Epoch: 5 | train_loss: 1.4559 | train_acc: 0.2500 | test_loss: 1.4896 | test_acc: 0.2500\n",
            "Epoch: 6 | train_loss: 1.5324 | train_acc: 0.2000 | test_loss: 1.3844 | test_acc: 0.2500\n",
            "Epoch: 7 | train_loss: 1.4779 | train_acc: 0.1667 | test_loss: 1.4188 | test_acc: 0.3125\n",
            "Epoch: 8 | train_loss: 1.4858 | train_acc: 0.2667 | test_loss: 1.4090 | test_acc: 0.3750\n",
            "Epoch: 9 | train_loss: 1.4883 | train_acc: 0.1500 | test_loss: 1.3917 | test_acc: 0.2500\n",
            "Epoch: 10 | train_loss: 1.5180 | train_acc: 0.1667 | test_loss: 1.4455 | test_acc: 0.1875\n",
            "Epoch: 11 | train_loss: 1.4368 | train_acc: 0.2833 | test_loss: 1.4737 | test_acc: 0.1875\n",
            "Epoch: 12 | train_loss: 1.4815 | train_acc: 0.2167 | test_loss: 1.4411 | test_acc: 0.2500\n",
            "Epoch: 13 | train_loss: 1.4439 | train_acc: 0.2833 | test_loss: 1.3545 | test_acc: 0.2500\n",
            "Epoch: 14 | train_loss: 1.5411 | train_acc: 0.2167 | test_loss: 1.4492 | test_acc: 0.2500\n",
            "Epoch: 15 | train_loss: 1.4723 | train_acc: 0.2667 | test_loss: 1.4426 | test_acc: 0.2500\n",
            "Epoch: 16 | train_loss: 1.5042 | train_acc: 0.2000 | test_loss: 1.3479 | test_acc: 0.2500\n",
            "Epoch: 17 | train_loss: 1.4464 | train_acc: 0.2500 | test_loss: 1.4636 | test_acc: 0.2500\n",
            "Epoch: 18 | train_loss: 1.5016 | train_acc: 0.2333 | test_loss: 1.4535 | test_acc: 0.2500\n",
            "Epoch: 19 | train_loss: 1.4618 | train_acc: 0.2333 | test_loss: 1.4422 | test_acc: 0.4375\n",
            "Epoch: 20 | train_loss: 1.5263 | train_acc: 0.1667 | test_loss: 1.4054 | test_acc: 0.2500\n",
            "Epoch: 21 | train_loss: 1.4656 | train_acc: 0.2833 | test_loss: 1.4945 | test_acc: 0.2500\n",
            "Epoch: 22 | train_loss: 1.4493 | train_acc: 0.2167 | test_loss: 1.4583 | test_acc: 0.2500\n",
            "Epoch: 23 | train_loss: 1.4842 | train_acc: 0.2333 | test_loss: 1.4234 | test_acc: 0.2500\n",
            "Epoch: 24 | train_loss: 1.4599 | train_acc: 0.2333 | test_loss: 1.4027 | test_acc: 0.2500\n",
            "Epoch: 25 | train_loss: 1.5002 | train_acc: 0.2167 | test_loss: 1.4443 | test_acc: 0.2500\n",
            "[INFO] Total training time :65.622 seconds\n",
            "[INFO] Initializing Model\n"
          ]
        },
        {
          "output_type": "stream",
          "name": "stderr",
          "text": [
            "/usr/local/lib/python3.10/dist-packages/torchvision/models/_utils.py:223: UserWarning: Arguments other than a weight enum or `None` for 'weights' are deprecated since 0.13 and may be removed in the future. The current behavior is equivalent to passing `weights=DenseNet121_Weights.IMAGENET1K_V1`. You can also use `weights=DenseNet121_Weights.DEFAULT` to get the most up-to-date weights.\n",
            "  warnings.warn(msg)\n"
          ]
        },
        {
          "output_type": "stream",
          "name": "stdout",
          "text": [
            "[INFO] Preparing Data Loaders\n",
            "Params to learn:\n",
            "\t classifier.weight\n",
            "\t classifier.bias\n",
            "Training densenet\n",
            "----------\n",
            "[INFO] Created SummaryWriter, saving to: runs/2024-01-16/doc_classification/densenet/25 epochs......\n"
          ]
        },
        {
          "output_type": "display_data",
          "data": {
            "text/plain": [
              "  0%|          | 0/25 [00:00<?, ?it/s]"
            ],
            "application/vnd.jupyter.widget-view+json": {
              "version_major": 2,
              "version_minor": 0,
              "model_id": "95054cb21aee44c5b3516aefea4dc78f"
            }
          },
          "metadata": {}
        },
        {
          "output_type": "stream",
          "name": "stdout",
          "text": [
            "Epoch: 1 | train_loss: 1.6616 | train_acc: 0.1167 | test_loss: 1.5312 | test_acc: 0.2500\n",
            "Epoch: 2 | train_loss: 1.5228 | train_acc: 0.2667 | test_loss: 1.5527 | test_acc: 0.1875\n",
            "Epoch: 3 | train_loss: 1.5867 | train_acc: 0.1333 | test_loss: 1.3314 | test_acc: 0.2500\n",
            "Epoch: 4 | train_loss: 1.5711 | train_acc: 0.2500 | test_loss: 1.6756 | test_acc: 0.2500\n",
            "Epoch: 5 | train_loss: 1.5817 | train_acc: 0.2333 | test_loss: 1.5746 | test_acc: 0.3125\n",
            "Epoch: 6 | train_loss: 1.6636 | train_acc: 0.1833 | test_loss: 1.5089 | test_acc: 0.2500\n",
            "Epoch: 7 | train_loss: 1.5236 | train_acc: 0.2167 | test_loss: 1.4774 | test_acc: 0.2500\n",
            "Epoch: 8 | train_loss: 1.5949 | train_acc: 0.2000 | test_loss: 1.5101 | test_acc: 0.2500\n",
            "Epoch: 9 | train_loss: 1.5724 | train_acc: 0.1833 | test_loss: 1.3985 | test_acc: 0.2500\n",
            "Epoch: 10 | train_loss: 1.5642 | train_acc: 0.2167 | test_loss: 1.4920 | test_acc: 0.3125\n",
            "Epoch: 11 | train_loss: 1.5758 | train_acc: 0.2500 | test_loss: 1.4943 | test_acc: 0.1875\n",
            "Epoch: 12 | train_loss: 1.5036 | train_acc: 0.2167 | test_loss: 1.4873 | test_acc: 0.1875\n",
            "Epoch: 13 | train_loss: 1.5025 | train_acc: 0.2667 | test_loss: 1.3887 | test_acc: 0.2500\n",
            "Epoch: 14 | train_loss: 1.6066 | train_acc: 0.1500 | test_loss: 1.4387 | test_acc: 0.2500\n",
            "Epoch: 15 | train_loss: 1.5529 | train_acc: 0.2667 | test_loss: 1.5872 | test_acc: 0.1250\n",
            "Epoch: 16 | train_loss: 1.6145 | train_acc: 0.1667 | test_loss: 1.4926 | test_acc: 0.3125\n",
            "Epoch: 17 | train_loss: 1.5420 | train_acc: 0.2333 | test_loss: 1.5332 | test_acc: 0.3125\n",
            "Epoch: 18 | train_loss: 1.6268 | train_acc: 0.2000 | test_loss: 1.5287 | test_acc: 0.1250\n",
            "Epoch: 19 | train_loss: 1.4642 | train_acc: 0.2667 | test_loss: 1.5170 | test_acc: 0.2500\n",
            "Epoch: 20 | train_loss: 1.5885 | train_acc: 0.2333 | test_loss: 1.4696 | test_acc: 0.2500\n",
            "Epoch: 21 | train_loss: 1.5634 | train_acc: 0.2000 | test_loss: 1.5869 | test_acc: 0.1875\n",
            "Epoch: 22 | train_loss: 1.4861 | train_acc: 0.2000 | test_loss: 1.4903 | test_acc: 0.2500\n",
            "Epoch: 23 | train_loss: 1.6148 | train_acc: 0.1667 | test_loss: 1.4370 | test_acc: 0.2500\n",
            "Epoch: 24 | train_loss: 1.5347 | train_acc: 0.1667 | test_loss: 1.4710 | test_acc: 0.1875\n",
            "Epoch: 25 | train_loss: 1.5745 | train_acc: 0.2167 | test_loss: 1.6030 | test_acc: 0.2500\n",
            "[INFO] Total training time :62.385 seconds\n"
          ]
        }
      ]
    },
    {
      "cell_type": "markdown",
      "source": [
        "### Tensorboard Visualization"
      ],
      "metadata": {
        "id": "s3km5ZmrczPl"
      }
    },
    {
      "cell_type": "code",
      "source": [
        "%load_ext tensorboard\n",
        "%tensorboard --logdir runs"
      ],
      "metadata": {
        "id": "BEbGCz_G93xl"
      },
      "execution_count": null,
      "outputs": []
    },
    {
      "cell_type": "code",
      "source": [],
      "metadata": {
        "id": "Mc8t97VpJIms"
      },
      "execution_count": null,
      "outputs": []
    }
  ]
}